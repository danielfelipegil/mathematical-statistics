{
 "cells": [
  {
   "cell_type": "markdown",
   "metadata": {},
   "source": [
    "<h3> Problem 1 </h3>"
   ]
  },
  {
   "cell_type": "markdown",
   "metadata": {},
   "source": [
    "An expert sharpshooter misses a target 10 percent of the time."
   ]
  },
  {
   "cell_type": "markdown",
   "metadata": {},
   "source": [
    "<b>a)</b>What is the probability that she misses the target for the first time in her second shot?"
   ]
  },
  {
   "cell_type": "markdown",
   "metadata": {},
   "source": [
    "Let X be the number of  shots when the person misses the target for the first time.\n",
    "X follow a Geometric distribution with p=0.1\n",
    "$P(x=2) = (1 - p)^{x-1}p \\ \\ \\ for \\ x=0,1,2,3...$ <br/>\n",
    "$P(x=2) = (1 - 0.1)^{2-1}\\times 0.1$<br/>\n",
    "$P(x=2) = (0.9)\\times(0.1)$<br/>\n",
    "$P(x=2) = 0.09$<br/>\n"
   ]
  },
  {
   "cell_type": "code",
   "execution_count": 46,
   "metadata": {},
   "outputs": [
    {
     "name": "stdout",
     "output_type": "stream",
     "text": [
      "[1] 0.09\n"
     ]
    }
   ],
   "source": [
    "print(dgeom(x = 1,prob = 0.1)) "
   ]
  },
  {
   "cell_type": "markdown",
   "metadata": {},
   "source": [
    "<b>b)</b>What is the probability that she misses the target for the first time in her xth shot?"
   ]
  },
  {
   "cell_type": "markdown",
   "metadata": {},
   "source": [
    "Let X be the number of  shots when the person misses the target for the first time.\n",
    "X follow a Geometric distribution with p=0.1\n",
    "$P(X=x) = (1 - p)^{x-1}p$<br/>\n",
    "$P(X=x) = (0.9)^{x-1}\\times(0.1)$<br/>"
   ]
  },
  {
   "cell_type": "markdown",
   "metadata": {},
   "source": [
    "<b>c)</b>What is the probability that the first miss comes after the 3rd shot?"
   ]
  },
  {
   "cell_type": "markdown",
   "metadata": {},
   "source": [
    "$P(x>3)= 1 - p(x<=3) = 1 - P(x=3)- P(x=2) - P(x=1) $<br/>\n",
    "$P(x>3)= 1 - p(x<=3) = 1 - 0.18 - 0.09 - 0.1  = 0.729$<br/>\n",
    "This can be calculated in R:"
   ]
  },
  {
   "cell_type": "code",
   "execution_count": 47,
   "metadata": {},
   "outputs": [
    {
     "data": {
      "text/html": [
       "0.729"
      ],
      "text/latex": [
       "0.729"
      ],
      "text/markdown": [
       "0.729"
      ],
      "text/plain": [
       "[1] 0.729"
      ]
     },
     "metadata": {},
     "output_type": "display_data"
    }
   ],
   "source": [
    "pgeom(2, 0.1, lower.tail = FALSE) # tail FALSE to use x>3"
   ]
  },
  {
   "cell_type": "markdown",
   "metadata": {},
   "source": [
    "<b>d)</b>How many shots does she expect to fire to suffer the first miss?"
   ]
  },
  {
   "cell_type": "markdown",
   "metadata": {},
   "source": [
    "E(x) = ?\n",
    "For a geometric distribution, the expectaction of X is $\\frac{1}{p}$ where p=0.1"
   ]
  },
  {
   "cell_type": "code",
   "execution_count": 48,
   "metadata": {},
   "outputs": [
    {
     "name": "stdout",
     "output_type": "stream",
     "text": [
      "[1] 10\n"
     ]
    }
   ],
   "source": [
    "e_x=1/0.1\n",
    "print(e_x)"
   ]
  },
  {
   "cell_type": "markdown",
   "metadata": {},
   "source": [
    "She expects 10 shots to miss the first one."
   ]
  },
  {
   "cell_type": "markdown",
   "metadata": {},
   "source": [
    "<b>e)</b>What is the probability that she will suffer 2 misses from 10 shots?"
   ]
  },
  {
   "cell_type": "markdown",
   "metadata": {},
   "source": [
    "Let X be the number of misses in 10 shots. X follow a binomial distribution with size=10 and p=0.1"
   ]
  },
  {
   "cell_type": "code",
   "execution_count": 49,
   "metadata": {},
   "outputs": [
    {
     "name": "stdout",
     "output_type": "stream",
     "text": [
      "[1] 0.1937102\n"
     ]
    }
   ],
   "source": [
    "print(dbinom(2,10,0.1)) # it can be calculated with p_2=choose(10, 2)* 0.1^2 *(1-0.1)^(10-2)"
   ]
  },
  {
   "cell_type": "markdown",
   "metadata": {},
   "source": [
    "<b>f)</b>What is the probability that she will suffer at least 1 miss from the 10 shots?"
   ]
  },
  {
   "cell_type": "markdown",
   "metadata": {},
   "source": [
    "$P(X \\geq 1)=?$<br/>\n",
    "As X follow a binomial distribution:<br/>\n",
    "$P(X \\geq 1)=1 - P(X=0)$<br/>"
   ]
  },
  {
   "cell_type": "code",
   "execution_count": 50,
   "metadata": {},
   "outputs": [
    {
     "name": "stdout",
     "output_type": "stream",
     "text": [
      "[1] 0.6513216\n"
     ]
    }
   ],
   "source": [
    "print(pbinom(0, 10, 0.1, lower.tail = FALSE)) # it can be calculated with print(1-dbinom(0,10,0.1))"
   ]
  },
  {
   "cell_type": "markdown",
   "metadata": {},
   "source": [
    "<b>g)</b> What is the probability that she misses the target for the second time in her 10th shot?"
   ]
  },
  {
   "cell_type": "markdown",
   "metadata": {},
   "source": [
    "Let X be the event she misses the target for the second time in the 10th trial. <br/>\n",
    "Then X follow a negative binomial distribution as X is the number of trials up to kth success, where k = 2 and the success is defined as missing the target.<br/>\n",
    "$P(X=10) = \\binom{x-1}{k-1} \\times (1-p)^{x-k}\\times p^k$"
   ]
  },
  {
   "cell_type": "code",
   "execution_count": 51,
   "metadata": {},
   "outputs": [
    {
     "name": "stdout",
     "output_type": "stream",
     "text": [
      "[1] 0.03874205\n"
     ]
    }
   ],
   "source": [
    "print(dnbinom(9, 2, 0.1)) # can also be calculated with p_10=choose(9,1)*(0.9)^8*0.1^2"
   ]
  },
  {
   "cell_type": "markdown",
   "metadata": {},
   "source": [
    "<b>h)</b>What is the probability that her 2nd miss comes no later than her 10th shot?"
   ]
  },
  {
   "cell_type": "markdown",
   "metadata": {},
   "source": [
    "Let X be the event she misses the second time no later than her 10th shot.<br/>\n"
   ]
  },
  {
   "cell_type": "code",
   "execution_count": 52,
   "metadata": {},
   "outputs": [
    {
     "name": "stdout",
     "output_type": "stream",
     "text": [
      "[1] 0.2639011\n"
     ]
    }
   ],
   "source": [
    "print(pbinom(1, 10, 0.1,FALSE)) "
   ]
  },
  {
   "cell_type": "markdown",
   "metadata": {},
   "source": [
    "<b>i)</b>Now suppose the sharpshooter’s probability of missing the target on each shot is only 0.01. Find the probability that she will miss the target 2 times from 200 shots"
   ]
  },
  {
   "cell_type": "markdown",
   "metadata": {},
   "source": [
    "making p=0.01 and let be $X$ the event she misses the target twice in 200 shots.\n",
    "$X$ follows a binomial distribution.<br/>\n",
    "<i>i. by using an appropriate binomial distribution</i>"
   ]
  },
  {
   "cell_type": "code",
   "execution_count": 53,
   "metadata": {},
   "outputs": [
    {
     "name": "stdout",
     "output_type": "stream",
     "text": [
      "[1] 0.272033\n"
     ]
    }
   ],
   "source": [
    "print(dbinom(2,200,0.01)) # it can also be calculated with choose(200, 2)* 0.01^2 *(1-0.01)^(200-2)\n"
   ]
  },
  {
   "cell_type": "markdown",
   "metadata": {},
   "source": [
    "<i>ii. by using the appropriate Poisson approximation to binomial distribution.\n",
    "</i>"
   ]
  },
  {
   "cell_type": "markdown",
   "metadata": {},
   "source": [
    "If $\\lambda$ is the mean occurrence per interval, then we can use $\\lambda=200\\times0.01$<br/>\n",
    "$f(x)=\\frac{\\lambda^x e^{-\\lambda}}{x!}$\n",
    "then,<br/><br/>\n",
    "$P(X=2)=\\frac{2^2 e^{-2}}{2!}$\n"
   ]
  },
  {
   "cell_type": "code",
   "execution_count": 70,
   "metadata": {},
   "outputs": [
    {
     "name": "stdout",
     "output_type": "stream",
     "text": [
      "[1] 0.2706706\n"
     ]
    }
   ],
   "source": [
    "lambda=200*0.01\n",
    "print(dpois(2, lambda)) # according to f(x) can also be calculated with f=lambda^2*exp(-lambda)/factorial(2)"
   ]
  },
  {
   "cell_type": "markdown",
   "metadata": {},
   "source": [
    "<h3>Problem 2</h3>"
   ]
  },
  {
   "cell_type": "markdown",
   "metadata": {},
   "source": [
    "The breakdowns in a computer network follow a Poisson process with rate 0.2 break- downs per week."
   ]
  },
  {
   "cell_type": "markdown",
   "metadata": {},
   "source": [
    "<b>a)</b>What is the probability that exactly 3 breakdowns occur during a 10-week period?"
   ]
  },
  {
   "cell_type": "markdown",
   "metadata": {},
   "source": [
    "Let be X the event of number of breakdown during a period<br/>\n",
    "X follow a poisson distribution with $\\lambda = 0.2\\times10$ since we are following the poisson process for a 10-week period.<br/>\n",
    "$P(X=3)=?$ "
   ]
  },
  {
   "cell_type": "code",
   "execution_count": 55,
   "metadata": {},
   "outputs": [
    {
     "name": "stdout",
     "output_type": "stream",
     "text": [
      "[1] 0.180447\n"
     ]
    }
   ],
   "source": [
    "lambda=0.2*10\n",
    "print(dpois(3, lambda))"
   ]
  },
  {
   "cell_type": "markdown",
   "metadata": {},
   "source": [
    "<b>b)</b>What is the probability that at least 2 breakdowns occur in the 10 weeks after that? <br/> Considering Possion Process means independent variables"
   ]
  },
  {
   "cell_type": "markdown",
   "metadata": {},
   "source": [
    "$P(X\\geq2) = 1 - P(X\\lt2)$"
   ]
  },
  {
   "cell_type": "code",
   "execution_count": 56,
   "metadata": {},
   "outputs": [
    {
     "name": "stdout",
     "output_type": "stream",
     "text": [
      "[1] 0.5939942\n"
     ]
    }
   ],
   "source": [
    "print(ppois(1, lambda=lambda, lower=FALSE))"
   ]
  },
  {
   "cell_type": "markdown",
   "metadata": {},
   "source": [
    "<b>c)</b>How many breakdowns are expected to occur during a year with 52 weeks? What is the standard deviation of the number of breakdowns in a year?\n"
   ]
  },
  {
   "cell_type": "markdown",
   "metadata": {},
   "source": [
    "Since $\\sigma^2=\\lambda=10.4$, then <br/> the standar deviation is $\\sigma=\\sqrt{\\lambda}=3.22$ breakdowns in a year<br/>\n",
    "The number of breakdowns expected is $E(x)=\\lambda$ = 10.4"
   ]
  },
  {
   "cell_type": "code",
   "execution_count": 57,
   "metadata": {},
   "outputs": [
    {
     "name": "stdout",
     "output_type": "stream",
     "text": [
      "[1] 10.4\n",
      "[1] 3.224903\n"
     ]
    }
   ],
   "source": [
    "lambda=0.2*52\n",
    "print(lambda)\n",
    "# for poisson process the standard deviation is \n",
    "print(sqrt(lambda))"
   ]
  },
  {
   "cell_type": "markdown",
   "metadata": {},
   "source": [
    "<b>d)</b> The internet service provider pays compensation if the 20th network breakdown occurs in the year. What is the chance that compensation is payable? Find the probability density function, mean and standard deviation for the time in years to the 20th computer breakdown."
   ]
  },
  {
   "cell_type": "markdown",
   "metadata": {},
   "source": [
    "Let $X$ be the time in years to the 20th breakdown. The probability that a kth=20th breakdown occurs in the year follows Gamma distribution.<br/>\n",
    "$X\\ \\sim \\ Gamma(\\alpha,\\lambda)$  : <br/><br/>\n",
    "$f(x) = \\frac{\\lambda^\\alpha x^{\\alpha-1}e^{-\\lambda x}}{\\Gamma(\\alpha)}$ for $x\\gt 0$ and $0$ otherwise\n",
    "<br/>\n",
    "$f(x)$ is the pdf of the time to the αth event of a Poisson process with\n",
    "$\\mu=\\frac{\\alpha}{\\lambda}$<br/>\n",
    "$\\sigma^2=\\frac{\\alpha}{\\lambda^2}$<br/>\n",
    "Where $\\lambda=0.2*52=10.4$, $\\Gamma(\\alpha)=(\\alpha-1)!$ where $\\alpha=20$<br/>\n",
    "\n",
    "\n"
   ]
  },
  {
   "cell_type": "markdown",
   "metadata": {},
   "source": [
    "$f(x)=\\frac{10.4^{20}x^{20-1}e^{-\\lambda x}}{(20-1)!}$\n",
    "<br/><br/>\n",
    "Then,\n",
    "<br/>\n",
    "$\\mu=1.923077$<br/>\n",
    "$\\sigma=0.4300131$<br/>"
   ]
  },
  {
   "cell_type": "code",
   "execution_count": 58,
   "metadata": {},
   "outputs": [
    {
     "name": "stdout",
     "output_type": "stream",
     "text": [
      "[1] 1.923077\n",
      "[1] 0.4300131\n"
     ]
    }
   ],
   "source": [
    "lambda=0.2*52\n",
    "alpha=20\n",
    "mu=alpha/lambda\n",
    "print(mu)\n",
    "sd=sqrt(alpha)/lambda\n",
    "print(sd)"
   ]
  },
  {
   "cell_type": "markdown",
   "metadata": {},
   "source": [
    "To find the chance of the compensation, we analize the event of the $20^{th}$ breakdown in a year.<br/>\n",
    "Let $A$ be the number of breakdowns in a year.</br>\n",
    "A follow a Poisson distribution with $\\lambda=10.4$ and pmf = $\\frac{\\lambda^k}{k!}e^{-\\lambda 20}$, k=0,1,2,3...\n"
   ]
  },
  {
   "cell_type": "markdown",
   "metadata": {},
   "source": [
    "$P(A\\geq20)=1- P(A\\leq19)=1 - e^{-\\lambda} \\sum_{i=1}^k\\frac{\\lambda^i}{i!},\\ k=19$ [2]<br/>\n",
    "$P(A\\geq20)=0.005241603$\n",
    "\n",
    "It´s unlikely, with aproximately 0.5% chance the internet service provider pays compensation.<br/>"
   ]
  },
  {
   "cell_type": "code",
   "execution_count": 59,
   "metadata": {},
   "outputs": [
    {
     "name": "stdout",
     "output_type": "stream",
     "text": [
      "[1] 0.005241603\n",
      "[1] 0.005241603\n"
     ]
    }
   ],
   "source": [
    "lambda=10.4\n",
    "k=19 # since R counts from 0\n",
    "print(ppois(k, lambda=lambda, lower=FALSE))\n",
    "\n",
    "# alternatively, the probability can be calculated how the ecuation [2] shows\n",
    "p=0\n",
    "for (x in 0:k){\n",
    "    p=p+dpois(x, lambda)\n",
    "}\n",
    "print(1-p)"
   ]
  },
  {
   "cell_type": "markdown",
   "metadata": {},
   "source": [
    "<h3>Problem 3</h3>"
   ]
  },
  {
   "cell_type": "markdown",
   "metadata": {},
   "source": [
    "A random variable X has a pdf given by:<br/>\n",
    "\n",
    "$f(x)=\\left\\{\n",
    "\\begin{array}{ll}\n",
    "      x & 0\\leq x \\lt 1 \\\\\n",
    "      2 - x, & 1\\leq x \\lt 2 \\\\\n",
    "\\end{array} \n",
    "\\right. \\\n",
    "$"
   ]
  },
  {
   "cell_type": "markdown",
   "metadata": {},
   "source": [
    "<b>a)</b> Sketch the graph of f(x)"
   ]
  },
  {
   "cell_type": "code",
   "execution_count": 60,
   "metadata": {},
   "outputs": [
    {
     "data": {},
     "metadata": {},
     "output_type": "display_data"
    },
    {
     "data": {
      "image/png": "[encoded data removed]",
      "text/plain": [
       "plot without title"
      ]
     },
     "metadata": {},
     "output_type": "display_data",
     "source": "R display func"
    }
   ],
   "source": [
    "f1 <- function(x) x\n",
    "f2 <- function(x) 2-x\n",
    "plot.range1 <- data.frame(x=seq(0, 1), Functions = factor(1))\n",
    "plot.range2 <- data.frame(x=seq(1, 2), Functions = factor(2))\n",
    "\n",
    "ggplot(NULL, aes(x=x, colour=Functions)) +\n",
    "  stat_function(data = plot.range1, fun = f1, xlim = c(0,1)) +\n",
    "  stat_function(data = plot.range2, fun = f2,xlim=c(1,2)) +\n",
    "  scale_colour_manual(values = c(\"red\", \"green\"), labels = c(\"x\", \"x-2\")) +\n",
    "  theme(axis.title.y=element_blank())"
   ]
  },
  {
   "cell_type": "markdown",
   "metadata": {},
   "source": [
    "<b>b)</b>Find the cdf of X and sketch its graph."
   ]
  },
  {
   "cell_type": "markdown",
   "metadata": {},
   "source": [
    "The CDF $F(X)= P(X\\leq x) = \\int_{-\\infty}^{x}f(t)\\ dt, -\\infty < x < \\infty$"
   ]
  },
  {
   "cell_type": "markdown",
   "metadata": {},
   "source": [
    "$F(x)=\\left\\{\n",
    "\\begin{array}{ll}\n",
    "    \\int_{0}^{x}t\\ dt, & 0\\leq x \\lt 1 \\\\\n",
    "    \\int_{0}^{1}x\\ dx+\\int_{1}^{x}2-t\\ dt, & 1\\leq x \\lt 2 \\\\\n",
    "\\end{array} \n",
    "\\right. \\\n",
    "$<br/>\n",
    "\n",
    "Solving the integral:<br/>\n",
    "$F(x)=\\left\\{\n",
    "\\begin{array}{ll}\n",
    "    \\frac{x^2}{2}, & 0\\leq x \\lt 1 \\\\\n",
    "    2x - \\frac{x^2}{2}-1, & 1\\leq x \\lt 2 \\\\\n",
    "\\end{array} \n",
    "\\right. \\\n",
    "$<br/>\n",
    "\n"
   ]
  },
  {
   "cell_type": "code",
   "execution_count": 62,
   "metadata": {},
   "outputs": [
    {
     "data": {},
     "metadata": {},
     "output_type": "display_data"
    },
    {
     "data": {
      "image/png": "[encoded data removed]",
      "text/plain": [
       "plot without title"
      ]
     },
     "metadata": {},
     "output_type": "display_data",
     "source": "R display func"
    }
   ],
   "source": [
    "library(ggplot2)\n",
    "f1 <- function(x) x^2*0.5\n",
    "f2 <- function(x) 2*x-x^2*0.5-1\n",
    "\n",
    "\n",
    "plot.range1 <- data.frame(x=seq(0, 1), Functions = factor(1))\n",
    "plot.range2 <- data.frame(x=seq(1, 2), Functions = factor(2))\n",
    "    \n",
    "ggplot(NULL, aes(x=x, colour=Functions)) +\n",
    "  stat_function(data = plot.range1, fun = f1, xlim = c(0,1)) +\n",
    "  stat_function(data = plot.range2, fun = f2, xlim = c(1,2)) +\n",
    "  scale_colour_manual(values = c(\"red\", \"green\"), labels = c(\"x^2/2\",\"2x-x^2/2-1\")) + xlab(\"x\") +\n",
    "  ylab(\"F(x)\") "
   ]
  },
  {
   "cell_type": "markdown",
   "metadata": {},
   "source": [
    "<b>c)</b>Find E(X), the expectation of X"
   ]
  },
  {
   "cell_type": "markdown",
   "metadata": {},
   "source": [
    "$E(X)= \\int_{-\\infty}^{\\infty}xf(x)\\ dx = \\int_{0}^{1}x^2\\ dx\\  +\\ \\int_{1}^{2}2x-x^2\\ dx  $"
   ]
  },
  {
   "cell_type": "markdown",
   "metadata": {},
   "source": [
    "$E(X)= \\frac{x^3}{3}|_0^1 + x^2|_1^2 - \\frac{x^3}{3}|_1^2 = 1$"
   ]
  },
  {
   "cell_type": "markdown",
   "metadata": {},
   "source": [
    "<b>d)</b>Find $E(X^2)$, the second moment of X. Then find the variance $\\sigma^2$ of $X$"
   ]
  },
  {
   "cell_type": "markdown",
   "metadata": {},
   "source": [
    "$E(X^2)= \\int_{0}^{1}x^3\\ dx\\  +\\ \\int_{1}^{2}2x^2-x^3\\ dx  $<br/>\n",
    "$E(X^2)=\\frac{x^4}{4}|_0^1 + \\frac{2}{3}x^3|_1^2 - \\frac{x^4}{4}|_1^2$"
   ]
  },
  {
   "cell_type": "code",
   "execution_count": 63,
   "metadata": {},
   "outputs": [
    {
     "name": "stdout",
     "output_type": "stream",
     "text": [
      "[1] 1.166667\n"
     ]
    }
   ],
   "source": [
    "e_x2=(1/4)+((16/3)-(2/3))-4+(1/4)\n",
    "print(e_x2)"
   ]
  },
  {
   "cell_type": "markdown",
   "metadata": {},
   "source": [
    "$\\sigma^2=M''(0)-[M'(0)]^2=E(X^2)-\\mu^2$"
   ]
  },
  {
   "cell_type": "code",
   "execution_count": 64,
   "metadata": {},
   "outputs": [
    {
     "name": "stdout",
     "output_type": "stream",
     "text": [
      "[1] 0.1666667\n"
     ]
    }
   ],
   "source": [
    "var=1/2+14/3-4-1\n",
    "print(var)"
   ]
  },
  {
   "cell_type": "markdown",
   "metadata": {},
   "source": [
    "<b>e)</b>Find $M(t) = E(e^{tx})$, the mgf of X. Then find the value of $M(0)$. Further, find the value of $\\lim_{t\\to0} M(t)$."
   ]
  },
  {
   "cell_type": "markdown",
   "metadata": {},
   "source": [
    "$M(t)=E(e^{tx})= \\int_{-\\infty}^{\\infty}e^{tx}f(x)\\ dx$ <br/>\n",
    "$M(t)=\\int_{0}^{1}xe^{tx}\\ dx\\ +\\ \\int_{1}^{2}(2-x)e^{tx}\\ dx$<br/>\n",
    "\n",
    "Solving the integral by parts:\n",
    "$M(t)= \\frac{1}{t^2}-\\frac{2}{t^2}e^t+\\frac{1}{t^2}e^{2t}=\\frac{1}{t^2}(1-2e^t+e^{2t})$<br/>\n",
    "Since $M(0)$ is not defined and we have the form $\\frac{0}{0}$, we can use L'Hopital rule:<br/>\n",
    "$M'(0) = \\lim_{t\\to0}\\frac{1-2e^t+e^{2t}}{t^2}$<br/>\n",
    "Taking derivatives, <br/>\n",
    "$M'(0) = \\lim_{t\\to0}\\frac{\\frac{d}{dt}1-2e^t+e^{2t}}{\\frac{d}{dt}t^2}$<br/>\n",
    "$M'(0) = \\lim_{t\\to0}\\frac{2e^t-2e^{t}}{2t}$<br/>\n",
    "Since we still have an indetermination $\\frac{0}{0}$, we can use L'Hopital rule again and simplify:<br/>\n",
    "$M'(0) = \\lim_{t\\to0}\\frac{\\frac{d}{dt}2e^t-2e^{t}}{\\frac{d}{dt}2t}$<br/>\n",
    "$M'(0) = \\lim_{t\\to0}2e^2t - e^t = 1$<br/>"
   ]
  },
  {
   "cell_type": "markdown",
   "metadata": {},
   "source": [
    "<h3>Problem 4</h3>"
   ]
  },
  {
   "cell_type": "markdown",
   "metadata": {},
   "source": [
    "The moment-generating function of a r.v. X is"
   ]
  },
  {
   "cell_type": "markdown",
   "metadata": {},
   "source": [
    "$M(t)=\\frac{e^{8t}-e^{4t}}{4t}\\ t\\neq0,\\ and\\ M(0) = 1 $"
   ]
  },
  {
   "cell_type": "markdown",
   "metadata": {},
   "source": [
    "$M(t)$ has the same form as a Uniform Distribution of a r.v. $X$ with parameters<br/>\n",
    "$b=8\\ and\\ a=4:$<br/>\n",
    "$M(t)=\\frac{e^{bt}-e^{at}}{(b-a)t}\\ t\\neq0,\\ -\\infty \\lt a \\lt b \\lt \\infty \\ and\\ M(0) = 1 $"
   ]
  },
  {
   "cell_type": "markdown",
   "metadata": {},
   "source": [
    "<b>a)</b> Find $E(X)$"
   ]
  },
  {
   "cell_type": "markdown",
   "metadata": {},
   "source": [
    "Using the definition for a Uniform distribution with parameters $b=8\\ and\\ a=4:$<br/>\n",
    "$E(X) = \\mu = \\frac{a+b}{2}= 6$ "
   ]
  },
  {
   "cell_type": "markdown",
   "metadata": {},
   "source": [
    "$E(X)$ can also be found using the derivative $M'(0)$"
   ]
  },
  {
   "cell_type": "code",
   "execution_count": 2,
   "metadata": {},
   "outputs": [
    {
     "name": "stdout",
     "output_type": "stream",
     "text": [
      "(exp(8 * t) * 8 - exp(4 * t) * 4)/(4 * t) - (exp(8 * t) - exp(4 * \n",
      "    t)) * 4/(4 * t)^2\n",
      "[1] NaN\n"
     ]
    }
   ],
   "source": [
    "m_1_t=D(expression((exp(8*t) - exp(4*t))/(4*t)),c(\"t\"))\n",
    "print(m_1_t)\n",
    "t<-0\n",
    "print(eval(m_1_t))\n"
   ]
  },
  {
   "cell_type": "markdown",
   "metadata": {},
   "source": [
    "Using L'Hopital rule to find the limit:<br/>\n",
    "$M'(0) = \\lim_{t\\to0}8e^{8t} - 2e^{4t}$ = 6\n",
    "\n",
    "<br/>\n",
    "Therefore, $E(X)=6$"
   ]
  },
  {
   "cell_type": "markdown",
   "metadata": {},
   "source": [
    "<b>b)</b> Find $Var(X)$"
   ]
  },
  {
   "cell_type": "markdown",
   "metadata": {},
   "source": [
    "$Var(X) = \\sigma^2 = \\frac{(b-a)^2}{12}$<br/>\n",
    "$Var(X)= \\frac{(8-4)^2}{12} = \\frac{16}{12} = \\frac{4}{3}$<br/>\n",
    "\n",
    "An alternative solution would be $Var(X)= M''(0) - [M'(0)]^2$, however it's not necessary to do the calculation."
   ]
  },
  {
   "cell_type": "markdown",
   "metadata": {},
   "source": [
    "<b>c)</b> Find $P(4.5 < X < 7.5)$"
   ]
  },
  {
   "cell_type": "markdown",
   "metadata": {},
   "source": [
    "Since $f(x)=\\frac{1}{b-a},\\ a \\lt x \\lt b$.<br/>\n",
    "Then,<br/>\n",
    "$P(4.5<X<7.5)=\\int_{a}^{b}\\frac{1}{8-4}dx$ <br/>\n",
    "$P(4.5<X<7.5)=\\int_{4.5}^{7.5}\\frac{1}{4}dx = \\frac{x}{4}|_{4.5}^{7.5}$ <br/>\n"
   ]
  },
  {
   "cell_type": "code",
   "execution_count": 65,
   "metadata": {},
   "outputs": [
    {
     "name": "stdout",
     "output_type": "stream",
     "text": [
      "[1] 0.75\n"
     ]
    }
   ],
   "source": [
    "p_x=7.5/4 - 4.5/4\n",
    "print(p_x)"
   ]
  },
  {
   "cell_type": "markdown",
   "metadata": {},
   "source": [
    "<h3>Problem 5 </h3>\n",
    "Let X and Y have the joint pmf defined by f(0,0) = f(1,2) = 0.3, f(0,1) = f(1,1) = 0.2."
   ]
  },
  {
   "cell_type": "markdown",
   "metadata": {},
   "source": [
    "<b>a)</b>Represent the joint pmf by a table."
   ]
  },
  {
   "cell_type": "markdown",
   "metadata": {},
   "source": [
    "Probabilty matrix for X and Y - pmf:<br/>\n",
    "<table>\n",
    "<tr>\n",
    "    <th></th>\n",
    "    <th></th>\n",
    "    <th></th>\n",
    "    <th>Y</th>\n",
    "    <th></th>\n",
    "</tr>\n",
    "<tr>\n",
    "    <th></th>\n",
    "    <th></th>\n",
    "    <th>0</th>\n",
    "    <th>1</th>\n",
    "    <th>2</th>\n",
    "</tr>\n",
    "<tr>\n",
    "    <th>x</th>\n",
    "    <th>0</th>\n",
    "    <td>0.3</td>\n",
    "    <td>0.2</td>\n",
    "    <td>0</td>\n",
    "</tr>\n",
    "<tr>\n",
    "    <th></th>\n",
    "    <th>1</th>\n",
    "    <td>0</td>\n",
    "    <td>0.2</td>\n",
    "    <td>0.3</td>\n",
    "</tr>\n",
    "</table>"
   ]
  },
  {
   "cell_type": "markdown",
   "metadata": {},
   "source": [
    "<b>b)</b>Give the marginal pmf’s of X and Y in the “margins” of the table in (a).\n",
    "<table>\n",
    "<tr>\n",
    "    <th>x</th>\n",
    "    <th>0</th>\n",
    "    <th>1</th>\n",
    "</tr>\n",
    "<tr>\n",
    "    <th>P(X=x)</th>\n",
    "    <td>0.5</td>\n",
    "    <td>0.5</td>\n",
    "</tr>\n",
    "</table>\n",
    "<table>\n",
    "<tr>\n",
    "    <th>y</th>\n",
    "    <th>0</th>\n",
    "    <th>1</th>\n",
    "    <td>2</td>\n",
    "</tr>\n",
    "<tr>\n",
    "    <th>P(Y=y)</th>\n",
    "    <td>0.3</td>\n",
    "    <td>0.4</td>\n",
    "    <td>0.3</td>\n",
    "</tr>\n",
    "</table>"
   ]
  },
  {
   "cell_type": "markdown",
   "metadata": {},
   "source": [
    "<b>c)</b>Compute:<br/>  $\\mu_X,\\ \\mu_Y,\\ \\sigma_X^2,\\ \\sigma_Y^2,\\ Cov(X,Y),\\ and\\ \\rho$.\n",
    "\n",
    "$\\mu_X=E(X)=0\\times0.5+1\\times0.5=0.5$<br/>\n",
    "$\\mu_Y=E(Y)=0\\times0.3+1\\times0.4+2\\times0.3=1$<br/>\n",
    "$\\sigma_X^2=E(X^2)-[E(X)]^2=(0^2\\times0.5+1^2\\times0.5) - 0.5^2=0.25$<br/>\n",
    "$\\sigma_Y^2=E(Y^2)-[E(Y)]^2=(0^2\\times0.3)+(1^2\\times0.4)+2^2\\times0.3-1^2=0.6$<br/>\n",
    "$Cov(X,Y)= E(XY)-E(X)E(Y),\\ where\\ E(XY)=1\\times0.2\\times1+1\\times2\\times0.3=0.8$ <br/>Then</br/>\n",
    "$Cov(X,Y) = 0.8-0.5 =0.3 $<br/>\n",
    "<br/>\n",
    "$\\rho = Corr(X,Y) = \\frac{Cov(X,Y)}{\\sigma_x\\sigma_y}=\\frac{0.3}{\\sqrt(0.25)\\times\\sqrt(0.6)}=0.774596669241483$"
   ]
  },
  {
   "cell_type": "markdown",
   "metadata": {},
   "source": [
    "<b>d)</b>Tabulate the conditional pmf of $Y$ given $X = 0$."
   ]
  },
  {
   "cell_type": "markdown",
   "metadata": {},
   "source": [
    "<table>\n",
    "<tr>\n",
    "    <th>Y</th>\n",
    "    <th>0</th>\n",
    "    <th>1</th>\n",
    "    <td>2</td>\n",
    "</tr>\n",
    "<tr>\n",
    "    <th>P(Y=y|x=0)</th>\n",
    "    <td>0.3/0.5=0.6</td>\n",
    "    <td>0.2/0.5=0.4</td>\n",
    "    <td>0</td>\n",
    "</tr>\n",
    "</table>"
   ]
  },
  {
   "cell_type": "markdown",
   "metadata": {},
   "source": [
    "<b>e)</b>Tabulate the conditional pmf of $X$ given $Y = 2$"
   ]
  },
  {
   "cell_type": "markdown",
   "metadata": {},
   "source": [
    "<table>\n",
    "<tr>\n",
    "    <th>X</th>\n",
    "    <th>0</th>\n",
    "    <th>1</th>\n",
    "</tr>\n",
    "<tr>\n",
    "    <th>P(X=x|y=2)</th>\n",
    "    <td>0</td>\n",
    "    <td>1</td>\n",
    "</tr>\n",
    "</table>"
   ]
  },
  {
   "cell_type": "markdown",
   "metadata": {},
   "source": [
    "<h3>Problem 6 </h3>\n",
    "Let $X$ and $Y$ be jointly normal random variables with parameters $\\mu_X = 0,\\ \\sigma_X^2 = 1,\\mu_Y =−1,\\sigma_Y^2 =4,\\ and\\ \\rho=0.5$."
   ]
  },
  {
   "cell_type": "markdown",
   "metadata": {},
   "source": [
    "<b>a)</b>For any constants $a, b, c, d$ derive the bivariate distribution of $(aX + bY, cX + dY )$ using the definition of the bivariate normal distribution from independent standard normal random variables and the fact - which you may assume - that a pair of random variables $(U, V)$ has a bivariate normal distribution if, and only if, for any numbers $e, f$ the random variable $eU + fV$ has normal distribution."
   ]
  },
  {
   "cell_type": "markdown",
   "metadata": {},
   "source": [
    "By Combination of indep’t Normal rv’s:<br/>\n",
    "If $X$ and $Y$ are independent random variables each with normal distribution, then, for any numbers $a, b, c,$ the random variable:\n",
    "$aX+bY+c \\sim N(a\\mu_x + b\\mu_y +c,(a\\sigma_x)^2+(b\\sigma_y)^2)$. [1]\n",
    "\n",
    "The two variables $X$ and $Y$ are jointly normal if they can be expressed in the form:<br/>\n",
    "$X = aU + bV$ &nbsp;[2] <br/> \n",
    "$Y= cU+dV$ <br/>\n",
    "\n",
    "where U and V are independent normal variables.<br/>\n",
    "\n",
    "By [1] we can say for any linear combination:<br/>\n",
    "$Z=w_1X+w_2Y$ [3]<br/>\n",
    "has a normal distribution.<br/>\n",
    "\n",
    "If we have $X=aU+bV$ and $Y=cU+dV$ for the independent random variables $U$ and $V$, then<br/>\n",
    "in [3]<br/>\n",
    "$Z=w_1(aU+bV) + w_2(cU+dV)$<br/>\n",
    "$Z=w_1aU+w_1bV+w_2cU+w_2dV$<br/>\n",
    "$Z=(w_1a+w_2b)U + (w_1b+w_2d)V$<br/>\n",
    "\n",
    "By [2]\n",
    "Z is normal since is the sum of independent normal variables.\n",
    "\n",
    "<br/>\n",
    "according to [1], the bivariate distribution is:<br/>\n",
    "$aU+bV \\sim N(a\\mu_U + b\\mu_V,(a\\sigma_U)^2+(b\\sigma_V)^2)$<br/>\n",
    "$cU+dV \\sim N(c\\mu_U + d\\mu_V,(c\\sigma_U)^2+(d\\sigma_V)^2)$<br/>\n",
    "\n",
    "The joint pdf of bivariate normal<br/>\n",
    "$f(X,Y)=\\frac{1}{2\\pi\\sigma_X\\sigma_Y\\sqrt(1-\\rho^2)}\\times e^{-\\frac{z_X^2(x)-2\\rho z_X(x) z_Y(y)+z_Y^2(y)}{2(1-\\rho^2)}}$\n",
    "<br/>\n",
    "where <br/>\n",
    "$X = aU + bV$ <br/> \n",
    "$Y= cU+dV$ <br/>"
   ]
  },
  {
   "cell_type": "markdown",
   "metadata": {},
   "source": [
    "<b>b)</b>Find $P(X +Y > 0)$."
   ]
  },
  {
   "cell_type": "markdown",
   "metadata": {},
   "source": [
    "Since X and Y are jointly normal, the variable X + Y is also normal.<br/>\n",
    "By the conclusion in <b>a)</b>, the distribution follow the form:<br/>\n",
    "$X+Y \\sim N(\\mu_x + \\mu_y,\\sigma_x^2+\\sigma_y^2)$ then, <br/>\n",
    "$X+Y \\sim N(-1,5)$.\n",
    "\n",
    "To find $P(X +Y > 0)$ I will use R."
   ]
  },
  {
   "cell_type": "code",
   "execution_count": 66,
   "metadata": {},
   "outputs": [
    {
     "name": "stdout",
     "output_type": "stream",
     "text": [
      "[1] 0.3273604\n"
     ]
    }
   ],
   "source": [
    "print(pnorm(0,mean = -1,sd = sqrt(5),lower.tail = FALSE))"
   ]
  },
  {
   "cell_type": "markdown",
   "metadata": {},
   "source": [
    "<b>c)</b>Find the constant a so that $aX + Y$ and $X + 2Y$ are independent"
   ]
  },
  {
   "cell_type": "markdown",
   "metadata": {},
   "source": [
    "Let $U = aX + Y$ and $V = X + 2Y$ are independent random variables. Then Corr(U,V)=0 </br>\n",
    "$Corr(aX+Y,X+2Y)=0$ and consequently $Cov(aX+Y,X+2Y)=0$ <br/>\n",
    "Given that <br/>\n",
    "$Cov(U,V)= E(UV)- E(U)E(V)$ using the calculations and resolve for $U$ and $V$ is known that:<br>\n",
    "$Cov(aX+Y,X+2Y)=aVar(X)+2Var(Y)+(1+2a)Cov(X,Y)$<br/>\n",
    "$Cov(aX+Y,X+2Y)=aVar(X)+2Var(Y)+(1+2a)(1)$ (Since $Cov(X,Y)=\\rho\\times\\sigma_x\\times\\sigma_y=1$)<br/>\n",
    "$Cov(aX+Y,X+2Y)=a+8+1+2a$<br/>\n",
    "$Cov(aX+Y,X+2Y)=3a+9=0$<br/>\n",
    "<br/>\n",
    "Given that $Cov(aX+Y,X+2Y)=0$ then:<br/>\n",
    "$a=-3$<br/>"
   ]
  },
  {
   "cell_type": "markdown",
   "metadata": {},
   "source": [
    "<b>d)</b>Find $P(X+Y >0|2X−Y =0)$."
   ]
  },
  {
   "cell_type": "markdown",
   "metadata": {},
   "source": [
    "Let $U = X+ Y$ and $V=2X-Y$ <br/>\n",
    "Now using the definition of Expectation:<br/>\n",
    "$E(U)=E(X)+E(Y)=0-1=-1$<BR/>\n",
    "$E(V)=2E(X)-E(Y)=1$<BR/>\n",
    "Then,\n",
    "$\\mu_U=-1$ and $\\mu_V=1<br/>\n",
    "\n",
    "Let's find the Covariance for (U,V)<br/>\n",
    "$Cov(U,V) = E(UV) - E(U)E(V)$<br/>\n",
    "where <br/>\n",
    "$E(UV)=E((x+y)(2x-y)=E(2x^2-2xy+2xy-y^2)$<br/>\n",
    "$E(UV)=2E(x^2)-E(y^2)$<br/>\n",
    "<br/>\n",
    "Now, from Variance definition: $Var(X)=E(X^2)-[E(X)]^2$, then <br/>\n",
    "$E(X^2)=Var(X)+[E(X)]^2=1+0=1$<br/>\n",
    "$E(Y^2)=Var(Y)+[E(Y)]^2=4+1=5$<br/>\n",
    "\n",
    "Replacing for $E(UV):$<br/>\n",
    "$E(UV)=2(1)-5=-3$<br/>\n",
    "\n",
    "Taking this result for $Cov(U,V)$:<br/>\n",
    "$Cov(U,V) = E(UV) - E(U)E(V)=-3-\\mu_U \\times \\mu_V =-2$<br/>\n",
    "\n",
    "With covariance we can find the variances for $U$ and $V$:<br/>\n",
    "$Cov(X,Y)=\\rho \\times \\sigma_X \\times \\sigma_Y=0.5 \\times 1 \\times \\sqrt(4)=1$<br/>\n",
    "$\\sigma_U^2=Var(X+Y)=Var(X)+Var(Y)+2Cov(X,Y)=1+4+2=7$<br/>\n",
    "$\\sigma_V^2=Var(2X-Y)=2^2Var(X)+Var(Y)-2(2)Cov(X,Y)=4(1)+4-4=4$<br/>\n",
    "\n",
    "Then,\n",
    "$\\sigma_U^2=4$ and $\\sigma_V^2=7$ <br/>\n",
    "\n",
    "and,<br/>\n",
    "$\\rho_{U,V}=Corr(U,V)=\\frac{Cov(U,V)}{\\sigma_U\\sigma_V}=\\frac{-2}{2\\times \\sqrt(7)}=-\\frac{1}{\\sqrt(7)}$<br/>\n",
    "\n",
    "Finally, we can calculate the conditional probability:<br/>\n",
    "\n",
    "$U|V_{=v} \\sim N(\\mu_U+\\rho_{U,V}\\sigma_Uz_v(v), (1-\\rho_{U,V}^2)\\sigma_V^2)$<br/>\n",
    "\n",
    "where <br/>\n",
    "$z_v(v)=\\frac{v-\\mu_V}{\\sigma_V}$<br/>\n",
    "$z_v(v=0)=\\frac{0-1}{2}=-\\frac{1}{2}$<br/>\n",
    "\n",
    "Replacing the values:<br/>\n",
    "\n",
    "$U|V_{=0} \\sim N(-1+(-\\frac{1}{\\sqrt(7)})(\\sqrt(7)(-\\frac{1}{2})\\ ,\\ [1-(\\frac{-1}{2})^2]4)$<br/>\n",
    "$U|V_{=0} \\sim N(-\\frac{1}{2},3)$<br/>\n",
    "\n",
    "To find $P(U >0|V =0)$ = $P(X+Y >0|2X−Y =0)$. Let´s compute in R to get the result:"
   ]
  },
  {
   "cell_type": "code",
   "execution_count": 67,
   "metadata": {},
   "outputs": [
    {
     "name": "stdout",
     "output_type": "stream",
     "text": [
      "[1] 0.386415\n"
     ]
    }
   ],
   "source": [
    "print(pnorm(0,mean = -0.5,sd = sqrt(3),lower.tail = FALSE))"
   ]
  }
 ],
 "metadata": {
  "kernelspec": {
   "display_name": "R",
   "language": "R",
   "name": "ir"
  },
  "language_info": {
   "codemirror_mode": "r",
   "file_extension": ".r",
   "mimetype": "text/x-r-source",
   "name": "R",
   "pygments_lexer": "r",
   "version": "3.5.1"
  }
 },
 "nbformat": 4,
 "nbformat_minor": 2
}
