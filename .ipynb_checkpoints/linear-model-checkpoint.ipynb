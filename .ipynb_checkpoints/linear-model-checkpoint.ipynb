{
 "cells": [
  {
   "cell_type": "code",
   "execution_count": 4,
   "metadata": {},
   "outputs": [],
   "source": [
    "# settings\n",
    "color_line=\"blue\"\n",
    "color_bg=rgb(0,0,0,alpha=0.3) \n",
    "par(col.lab=color_line,col=color_line,col.axis=color_line,col.sub = color_line,bg = color_bg ,fg=color_line)"
   ]
  },
  {
   "cell_type": "markdown",
   "metadata": {},
   "source": [
    "## Problem 1"
   ]
  },
  {
   "cell_type": "markdown",
   "metadata": {},
   "source": [
    "Consider a general full rank linear model $y = X\\beta +\\epsilon$ with $p > 2$ parameters. Derive an expression for a joint $100(1 − \\alpha)%$ confidence region for parameters $\\beta_i$ and $\\beta_j$, where $i$ and $j$ are arbitrary."
   ]
  },
  {
   "cell_type": "markdown",
   "metadata": {},
   "source": [
    "Let $X$ be a $n\\ x\\ p$ matrix, then:<br/><br/>\n",
    "$X=\\left[ \\begin{array}{X}\n",
    "1 & X_{1,1} & ... & X_{1,p} \\\\\n",
    "1 & X_{2,1} & ... & X_{2,p}  \\\\\n",
    "... & ... & ... \\\\\n",
    "1 & X_{n,1} & ... & X_{n,p} \\\\ \\end{array} \\right]$\n",
    "\n",
    "and <br>\n",
    "$\\boldsymbol \\beta=\\left[ \\begin{array}{beta}\n",
    "\\beta_i  \\\\\n",
    "\\beta_j \\\\ \\end{array} \\right]$<br>\n",
    "\n",
    "Then, we can define<br>\n",
    "\n",
    "$X^T=\\left[ \\begin{array}{X}\n",
    "1 & 1 & 1 & 1 \\\\\n",
    "X_{1,1} & X_{1,2} & ... & X_{1,n}  \\\\\n",
    "... & ... & ... \\\\\n",
    "X_{p,1} & X_{p,2} & ... & X_{p,n} \\\\ \\end{array} \\right]$\n",
    "<br>\n",
    "\n",
    "$X^TX=\\left[ \\begin{array}{X}\n",
    "n & \\sum_{i=1}^n X_{i,1} & ... & \\sum_{i=1}^n X_{i,p} \\\\\n",
    "\\sum_{i=1}^n X_{1,i} &  \\sum_{i=1}^n X_{1,i}X_{i,1} & ... & \\sum_{i=1}^n X_{1,i}X_{i,p} \\\\\n",
    "... & ... & ... \\\\\n",
    "\\sum_{i=1}^n X_{p,i} &  \\sum_{i=1}^n X_{p,i}X_{i,1} & ... & \\sum_{i=1}^n X_{p,i}X_{i,p} \\\\ \\end{array} \\right]$\n",
    "<br>\n"
   ]
  },
  {
   "cell_type": "markdown",
   "metadata": {},
   "source": [
    "Let $f_{\\alpha}$ be the critical value of $F$ distribution with $p$ and $n\\ x\\ p$ degrees of freedom and probability $\\alpha$, then: "
   ]
  },
  {
   "cell_type": "markdown",
   "metadata": {},
   "source": [
    "$P[\\frac{(b-\\beta)^TX^TX(b-\\beta)}{ps^2}\\leq f_{\\alpha}]=1-\\alpha$. for any $p>2$<br>\n",
    "give the confidence region:<br>\n",
    "$(b-\\beta)^TX^TX(b-\\beta)\\leq ps^2f_{\\alpha}$"
   ]
  },
  {
   "cell_type": "markdown",
   "metadata": {},
   "source": [
    "$\\left[ \\begin{array}{beta}\n",
    "b_i - \\beta_i & ... & b_j - \\beta_j \\\\ \\end{array} \\right]$ $\\left[ \\begin{array}{X}\n",
    "n & \\sum_{i=1}^n X_{i,1} & ... & \\sum_{i=1}^n X_{i,p} \\\\\n",
    "\\sum_{i=1}^n X_{1,i} &  \\sum_{i=1}^n X_{1,i}X_{i,1} & ... & \\sum_{i=1}^n X_{1,i}X_{i,p} \\\\\n",
    "... & ... & ... \\\\\n",
    "\\sum_{i=1}^n X_{p,i} &  \\sum_{i=1}^n X_{p,i}X_{i,1} & ... & \\sum_{i=1}^n X_{p,i}X_{i,p} \\\\ \\end{array} \\right]$ $\\left[ \\begin{array}{beta}\n",
    "b_i - \\beta_i \\\\ \n",
    "... \\\\ \n",
    "b_j - \\beta_j \\\\ \\end{array} \\right]$ $\\leq ps^2f_{\\alpha}$\n",
    "\n",
    "\n",
    "\n",
    "\n"
   ]
  },
  {
   "cell_type": "markdown",
   "metadata": {},
   "source": [
    "We can define a linear combination og $\\beta$ with matrix C such that $C\\beta=\\left[ \\begin{array}{beta}\n",
    "\\beta_i  \\\\\n",
    "\\beta_j \\\\ \\end{array} \\right]$<br>\n",
    "Then we have:<br>\n",
    "$\\frac{(Cb-C\\beta)^T(C(X^TX)^{-1}C^T)^{-1}(Cb-C\\beta)}{\\sigma^2} \\sim \\chi_2^2$<br>\n",
    "\n",
    "And the F statistic is given by:<br>\n",
    "$\\frac{(Cb-C\\beta)^T(C(X^TX)^{-1}C^T)^{-1}(Cb-C\\beta)/2}{s^2} $<br>\n",
    "with 2 and n-p degrees of freedom<br>\n",
    "\n",
    "A joint confidence interval for $\\beta=[\\beta_i \\beta_j]^T$ can be written as:<br>\n",
    "$(Cb-C\\beta)^T(C(X^TX)^{-1}C^T)^{-1}(Cb-C\\beta) \\leq 2s^2f_{\\alpha}/(n-p)$"
   ]
  },
  {
   "cell_type": "markdown",
   "metadata": {},
   "source": [
    "## Problem 2"
   ]
  },
  {
   "cell_type": "markdown",
   "metadata": {},
   "source": [
    "An experiment is conducted to estimate the annual demand for cars, based on their cost, the current unemployment rate, and the current interest rate. A survey is conducted and the following measurements obtained:\n",
    "<img src=\"p2_data.png\">"
   ]
  },
  {
   "cell_type": "code",
   "execution_count": 5,
   "metadata": {},
   "outputs": [],
   "source": [
    "cars_sold=c(5.5,5.9,6.5,5.9,8.0,9.0,10.0,10.8)\n",
    "cost=c(7.2, 10.0, 9.0, 5.5, 9.0, 9.8, 14.5, 8.0)\n",
    "unemployment_rate=c(8.7,9.4,10.0,9.0,12.0,11.0,12.0,13.7)\n",
    "interest_rate=c(5.5,4.4,4.0,7.0,5.0,6.2,5.8,3.9)"
   ]
  },
  {
   "cell_type": "markdown",
   "metadata": {},
   "source": [
    "<b>a)</b> Fit a linear model to the data and estimate the parameters and variance."
   ]
  },
  {
   "cell_type": "markdown",
   "metadata": {},
   "source": [
    "we can fit a linear model finding the least square estimator such that $\\hat{y}=Xb+e$, where $b$ is the $BLUE$ for $\\beta$ and $e$ are the residuals.  "
   ]
  },
  {
   "cell_type": "code",
   "execution_count": 6,
   "metadata": {},
   "outputs": [],
   "source": [
    "y=cars_sold\n",
    "n=length(y)\n",
    "p=4\n",
    "X=matrix(cbind(c(rep(1,n)),cost,unemployment_rate,interest_rate),n,p)\n",
    "b=solve(t(X)%*%X,t(X)%*%y)\n",
    "e=y-X%*%b\n",
    "dof=n-p\n",
    "s2=sum(e^2)/dof"
   ]
  },
  {
   "cell_type": "markdown",
   "metadata": {},
   "source": [
    "Least squares estimator b:"
   ]
  },
  {
   "cell_type": "code",
   "execution_count": 7,
   "metadata": {},
   "outputs": [
    {
     "name": "stdout",
     "output_type": "stream",
     "text": [
      "           [,1]\n",
      "[1,] -7.4044796\n",
      "[2,]  0.1207646\n",
      "[3,]  1.1174846\n",
      "[4,]  0.3861206\n"
     ]
    }
   ],
   "source": [
    "print(b)"
   ]
  },
  {
   "cell_type": "markdown",
   "metadata": {},
   "source": [
    "Variance:"
   ]
  },
  {
   "cell_type": "code",
   "execution_count": 8,
   "metadata": {},
   "outputs": [
    {
     "name": "stdout",
     "output_type": "stream",
     "text": [
      "[1] 0.3955368\n"
     ]
    }
   ],
   "source": [
    "print(s2)"
   ]
  },
  {
   "cell_type": "markdown",
   "metadata": {},
   "source": [
    "<b>b)</b> Which two of the parameters have the highest (in magnitude) covariance in their estimators?"
   ]
  },
  {
   "cell_type": "markdown",
   "metadata": {},
   "source": [
    "$b=(X^TX)^{-1}X^Ty$ As a result of the maximization of $\\frac{\\partial (y-Xb)^T(y-xb)}{\\partial b}$, where the numerator are the residuals sum of squares<br>\n",
    "The variance of the estimator is givent by:<br> \n",
    "$Var(b)=Var((X^TX)^{-1}X^Ty)$, applying theorem $Var(Ay)=AVA^T$, then<br>\n",
    "$Var(b)=(X^TX)^{-1}X^T[Var(y)][(X^TX)^{-1}X^T]^T$<br>\n",
    "Now, $Var(y)=Var(X\\beta + \\epsilon)=\\sigma^2I$, since $\\epsilon \\sim N(0,\\sigma^2I)$, then<br>\n",
    "$Var(b)=(X^TX)^{-1}X^T[\\sigma^2I][(X^TX)^{-1}X^T]^T$, using transpose properties<br>\n",
    "$Var(b)=(X^TX)^{-1}X^T[\\sigma^2I]X[(X^TX)^{-1}]^T$, we can group $(X^TX)^{-1}X^TX=I$ and using symmetric matrix property, then<br>\n",
    "$Var(b)=(X^TX)^{-1}\\sigma^2$"
   ]
  },
  {
   "cell_type": "code",
   "execution_count": 9,
   "metadata": {},
   "outputs": [
    {
     "name": "stdout",
     "output_type": "stream",
     "text": [
      "            [,1]          [,2]         [,3]          [,4]\n",
      "[1,]  5.33873163 -0.0216823837 -0.276299438 -0.4072969010\n",
      "[2,] -0.02168238  0.0096900170 -0.005849433 -0.0007662867\n",
      "[3,] -0.27629944 -0.0058494334  0.024627618  0.0125443666\n",
      "[4,] -0.40729690 -0.0007662867  0.012544367  0.0535408487\n"
     ]
    }
   ],
   "source": [
    "covariance_matrix=solve(t(X)%*%X)*s2\n",
    "print(covariance_matrix)"
   ]
  },
  {
   "cell_type": "code",
   "execution_count": 10,
   "metadata": {},
   "outputs": [
    {
     "data": {
      "text/html": [
       "-0.407296900960155"
      ],
      "text/latex": [
       "-0.407296900960155"
      ],
      "text/markdown": [
       "-0.407296900960155"
      ],
      "text/plain": [
       "[1] -0.4072969"
      ]
     },
     "metadata": {},
     "output_type": "display_data"
    }
   ],
   "source": [
    "covariance_matrix[1,4]"
   ]
  },
  {
   "cell_type": "markdown",
   "metadata": {},
   "source": [
    "From covariance matrix, it is shown for parameters $\\beta_0$ and $\\beta_3$ have the gighest covariance in their estimators given that $cov(b_0,b_3)=-0.407$ is the highest covariance."
   ]
  },
  {
   "cell_type": "markdown",
   "metadata": {},
   "source": [
    "<b>c)</b>Find a $99\\%$ confidence interval for the average number of $8, 000$ cars sold in a year which has unemployment rate $9\\%$ and interest rate $5\\%$."
   ]
  },
  {
   "cell_type": "markdown",
   "metadata": {},
   "source": [
    "To find a confidence interval for the expected response to a particular set of $x$ variables $x_1^*,x_2^*,...,x_k^*$, we wish to estimate <br> $E[y] = \\beta_0 + β_1x_1^* + . . . + \\beta_k x_k^* = (x^*)^T \\beta$<br>\n",
    "where $x^* = [1\\ x_1^*\\ x_2^*\\ ...\\ x_k^*]^{􏰃T}$<br>\n",
    "<br>\n",
    "We can define a confidence interval $100(1-\\alpha)\\%$<br>\n",
    "$(x^*)^{T} b \\pm t_{\\alpha/2}s\\sqrt{(x^*)^{T} (X^TX)^{−1}x^∗}$<br>\n"
   ]
  },
  {
   "cell_type": "code",
   "execution_count": 11,
   "metadata": {},
   "outputs": [
    {
     "name": "stdout",
     "output_type": "stream",
     "text": [
      "[1] 3.926075 7.173129\n"
     ]
    }
   ],
   "source": [
    "xst =c(1,8,9.0,5.0)\n",
    "xst_b=t(xst)%*%b\n",
    "ta = qt(0.995,df=n-p)\n",
    "int=ta*sqrt(s2)*sqrt(t(xst)%*%solve(t(X)%*%X)%*%xst)\n",
    "print(c(xst_b-int,xst_b+int))"
   ]
  },
  {
   "cell_type": "markdown",
   "metadata": {},
   "source": [
    "In conclusion, we are $95\\%$ confident that the average number of cars sold will be between $583,684$ and $8,583,285$ having an unenployment rate of $9\\%$ and interest rate of $5\\%$"
   ]
  },
  {
   "cell_type": "markdown",
   "metadata": {},
   "source": [
    "<b>d)</b>A prediction interval for the number of cars sold in such a year is calculated to be $(4012, 7087)$. Find the confidence level used."
   ]
  },
  {
   "cell_type": "markdown",
   "metadata": {},
   "source": [
    "The prediction interval is given by<br>\n",
    "$[4010,7087]=(x^*)^Tb \\pm t_{\\alpha/2}s\\sqrt{1+(x^*)^{T} (X^TX)^{−1}x^∗}$, then we can find $t_{\\alpha/2}$ such that<br>\n",
    "$t_{\\alpha/2}=\\frac{(x^*)^Tb -4010}{s\\sqrt{1+(x^*)^{T} (X^TX)^{−1}x^∗}}$<br>"
   ]
  },
  {
   "cell_type": "code",
   "execution_count": 12,
   "metadata": {},
   "outputs": [
    {
     "name": "stdout",
     "output_type": "stream",
     "text": [
      "          [,1]\n",
      "[1,] 0.9501929\n"
     ]
    }
   ],
   "source": [
    "t=(t(xst)%*%b-4.010)/(sqrt(s2)*sqrt(1+t(xst)%*%solve(t(X)%*%X)%*%xst))\n",
    "print(pt(t,df=n-p))"
   ]
  },
  {
   "cell_type": "markdown",
   "metadata": {},
   "source": [
    "The confidence level is of $95\\%$"
   ]
  },
  {
   "cell_type": "markdown",
   "metadata": {},
   "source": [
    "<b>e)</b>Test for model relevance using a corrected sum of squares"
   ]
  },
  {
   "cell_type": "markdown",
   "metadata": {},
   "source": [
    "Let $H_0:\\beta=0$ and $H_1:\\beta \\neq 0$,<br>\n",
    "Given that $\\beta=[\\beta_0, \\beta_1,\\beta_2,\\beta_3]^T$, then we test:<br>\n",
    "$H_0:\\beta_1=\\beta_2=\\beta_3=0$ and $H_1:\\beta_1=\\beta_2=\\beta_3 \\neq 0$, that means, the model only depends on the intercept.<br>"
   ]
  },
  {
   "cell_type": "markdown",
   "metadata": {},
   "source": [
    "Then, we can say for $\\beta$,<br>\n",
    "$\\boldsymbol \\beta=\\left[ \\begin{array}{beta_cond}\n",
    "\\beta_1  \\\\\n",
    "\\beta_2 \\\\\n",
    "\\beta_3 \\\\\n",
    "--\\\\\n",
    "\\beta_0 \\\\ \\end{array} \\right]=$\n",
    "$\\left[ \\begin{array}{gg}\n",
    "\\gamma_1 \\\\\n",
    "-\\\\\n",
    "\\gamma_2 \\\\ \\end{array} \\right]$<br>"
   ]
  },
  {
   "cell_type": "markdown",
   "metadata": {},
   "source": [
    "We want to test $H_0 : \\gamma_1 = 0$ (only the intercept is relevant) against $H_1 : \\gamma_1 \\neq 0$. The reduced model is<br>\n",
    "$y = X_2\\beta_0 + \\epsilon_2$, <br>(independent normal erros with constant mean)<br><br>\n",
    "\n",
    "Redfining the design matrix $X=X_2$ to consider only the intercept, and then a new least square estimator $b=b_2$, and recalculating, we have:"
   ]
  },
  {
   "cell_type": "code",
   "execution_count": 13,
   "metadata": {},
   "outputs": [
    {
     "name": "stdout",
     "output_type": "stream",
     "text": [
      "         [,1]\n",
      "[1,] 23.47683\n",
      "            [,1]\n",
      "[1,] 0.005317255\n"
     ]
    }
   ],
   "source": [
    "# full model SS\n",
    "\n",
    "SSRes=sum((y - X %*% b)^2)\n",
    "SSTotal=sum(y^2)\n",
    "SSReg=SSTotal-SSRes\n",
    "\n",
    "n=length(y)\n",
    "\n",
    "# formulate a new model only with the intercept\n",
    "X2 = X[,1]\n",
    "b2=solve(t(X2)%*%X2,t(X2)%*%y)\n",
    "\n",
    "Rg2 = t(y)%*%X2%*%b2\n",
    "SSRes2 = sum((y - X2 %*% b2)^2)\n",
    "\n",
    "# calculate the regression sum of squares for conditioned model\n",
    "Rg1g2 = SSReg - Rg2\n",
    "\n",
    "\n",
    "# perform the hypothesis testing\n",
    "r = p-1\n",
    "Fstat = (Rg1g2/r)/(SSRes/(n-p))\n",
    "p_value=pf(Fstat, r, n-p, lower.tail=FALSE)\n",
    "print(Fstat)\n",
    "print(p_value)\n"
   ]
  },
  {
   "cell_type": "markdown",
   "metadata": {},
   "source": [
    "The model is relevant as we reject the Null Hypothesis."
   ]
  },
  {
   "cell_type": "markdown",
   "metadata": {},
   "source": [
    "## Problem 3"
   ]
  },
  {
   "cell_type": "markdown",
   "metadata": {},
   "source": [
    "For this question we use the data set UCD.csv (available on the LMS). This data set, collected on $158$ UC Davis students (self-reported), includes the following variables:\n"
   ]
  },
  {
   "cell_type": "markdown",
   "metadata": {},
   "source": [
    "ID = the ID for that student<br>\n",
    "alcohol = average number of alcoholic drinks consumed per week exercise = average hours per week the student exercises<br>\n",
    "height = the student’s height (in inches)<br>\n",
    "male = indicator variable, $1$ if male and $0$ if female<br>\n",
    "dadht = the student’s father’s height<br>\n",
    "momht = the student’s mother’s height<br>\n",
    "We seek to predict a person’s height, based on the given data.<br>"
   ]
  },
  {
   "cell_type": "markdown",
   "metadata": {},
   "source": [
    "<b>a)</b>Fit a linear model using all of the variables (except ID)."
   ]
  },
  {
   "cell_type": "code",
   "execution_count": 14,
   "metadata": {},
   "outputs": [],
   "source": [
    "UCD=read.csv(\"res/UCD.csv\")\n",
    "df=UCD[,-1] # remove ID column"
   ]
  },
  {
   "cell_type": "code",
   "execution_count": 15,
   "metadata": {},
   "outputs": [
    {
     "name": "stdout",
     "output_type": "stream",
     "text": [
      " num [1:158, 1] 66 64 72 68 68 64 68.5 69 66 70 ...\n",
      "NULL\n",
      "                [,1]\n",
      "alcohol   0.05068137\n",
      "exercise -0.05441780\n",
      "male      5.16072962\n",
      "dadht     0.38182489\n",
      "momht     0.27060077\n",
      "b0       20.94899714\n"
     ]
    }
   ],
   "source": [
    "# get the model fit with matrices\n",
    "y_ucd=df[,3]\n",
    "X=df[,-3]\n",
    "X['b0']=1\n",
    "X_ucd=data.matrix(X, rownames.force = NA)\n",
    "b_ucd=solve(t(X_ucd)%*%X_ucd,t(X_ucd)%*%y_ucd)\n",
    "e_ucd=y_ucd-X_ucd%*%b_ucd\n",
    "y_hat=X_ucd%*%b_ucd+e_ucd\n",
    "print(str(y_hat))\n",
    "print(b_ucd)"
   ]
  },
  {
   "cell_type": "code",
   "execution_count": 16,
   "metadata": {},
   "outputs": [
    {
     "data": {
      "text/plain": [
       "\n",
       "Call:\n",
       "lm(formula = df$height ~ 1 + df$alcohol + df$exercise + df$male + \n",
       "    df$dadht + df$momht, data = df)\n",
       "\n",
       "Residuals:\n",
       "     Min       1Q   Median       3Q      Max \n",
       "-10.2166  -1.4627   0.0494   1.4502   6.2616 \n",
       "\n",
       "Coefficients:\n",
       "            Estimate Std. Error t value Pr(>|t|)    \n",
       "(Intercept) 20.94900    5.08126   4.123 6.14e-05 ***\n",
       "df$alcohol   0.05068    0.02616   1.938 0.054524 .  \n",
       "df$exercise -0.05442    0.04501  -1.209 0.228506    \n",
       "df$male      5.16073    0.39794  12.969  < 2e-16 ***\n",
       "df$dadht     0.38182    0.05394   7.079 5.01e-11 ***\n",
       "df$momht     0.27060    0.07061   3.832 0.000185 ***\n",
       "---\n",
       "Signif. codes:  0 ‘***’ 0.001 ‘**’ 0.01 ‘*’ 0.05 ‘.’ 0.1 ‘ ’ 1\n",
       "\n",
       "Residual standard error: 2.318 on 152 degrees of freedom\n",
       "Multiple R-squared:  0.6708,\tAdjusted R-squared:  0.6599 \n",
       "F-statistic: 61.94 on 5 and 152 DF,  p-value: < 2.2e-16\n"
      ]
     },
     "metadata": {},
     "output_type": "display_data"
    }
   ],
   "source": [
    "# get the model fit using linear model R\n",
    "fullmodel=lm(df$height ~ 1+df$alcohol+df$exercise+df$male+df$dadht+df$momht, data=df) \n",
    "summary(fullmodel)\n"
   ]
  },
  {
   "cell_type": "markdown",
   "metadata": {
    "slideshow": {
     "slide_type": "-"
    }
   },
   "source": [
    "<b>b)</b>Test for model relevance, using a corrected sum of squares."
   ]
  },
  {
   "cell_type": "markdown",
   "metadata": {},
   "source": [
    "We can test model relevance comparing with a model only with intercept: "
   ]
  },
  {
   "cell_type": "code",
   "execution_count": 17,
   "metadata": {},
   "outputs": [
    {
     "data": {
      "text/html": [
       "<table>\n",
       "<thead><tr><th scope=col>Res.Df</th><th scope=col>RSS</th><th scope=col>Df</th><th scope=col>Sum of Sq</th><th scope=col>F</th><th scope=col>Pr(&gt;F)</th></tr></thead>\n",
       "<tbody>\n",
       "\t<tr><td>157         </td><td>2481.2168   </td><td>NA          </td><td>      NA    </td><td>      NA    </td><td>          NA</td></tr>\n",
       "\t<tr><td>152         </td><td> 816.8856   </td><td> 5          </td><td>1664.331    </td><td>61.93728    </td><td>6.052692e-35</td></tr>\n",
       "</tbody>\n",
       "</table>\n"
      ],
      "text/latex": [
       "\\begin{tabular}{r|llllll}\n",
       " Res.Df & RSS & Df & Sum of Sq & F & Pr(>F)\\\\\n",
       "\\hline\n",
       "\t 157          & 2481.2168    & NA           &       NA     &       NA     &           NA\\\\\n",
       "\t 152          &  816.8856    &  5           & 1664.331     & 61.93728     & 6.052692e-35\\\\\n",
       "\\end{tabular}\n"
      ],
      "text/markdown": [
       "\n",
       "Res.Df | RSS | Df | Sum of Sq | F | Pr(>F) | \n",
       "|---|---|\n",
       "| 157          | 2481.2168    | NA           |       NA     |       NA     |           NA | \n",
       "| 152          |  816.8856    |  5           | 1664.331     | 61.93728     | 6.052692e-35 | \n",
       "\n",
       "\n"
      ],
      "text/plain": [
       "  Res.Df RSS       Df Sum of Sq F        Pr(>F)      \n",
       "1 157    2481.2168 NA       NA        NA           NA\n",
       "2 152     816.8856  5 1664.331  61.93728 6.052692e-35"
      ]
     },
     "metadata": {},
     "output_type": "display_data"
    }
   ],
   "source": [
    "nullmodel=lm(df$height~1,data=df)\n",
    "anova(nullmodel,fullmodel)"
   ]
  },
  {
   "cell_type": "markdown",
   "metadata": {},
   "source": [
    "We can see F statistic with corrected sum of squares (61.94 - summary(full_model) is high and p-value really low. Also shown in Anova, we can conclude to reject the null Hypothesis and say the model is relevant. "
   ]
  },
  {
   "cell_type": "markdown",
   "metadata": {},
   "source": [
    "<b>c)</b>Use forward selection with F tests to select variables for your model."
   ]
  },
  {
   "cell_type": "code",
   "execution_count": 18,
   "metadata": {},
   "outputs": [
    {
     "data": {
      "text/html": [
       "<table>\n",
       "<thead><tr><th scope=col>Res.Df</th><th scope=col>RSS</th><th scope=col>Df</th><th scope=col>Sum of Sq</th><th scope=col>F</th><th scope=col>Pr(&gt;F)</th></tr></thead>\n",
       "<tbody>\n",
       "\t<tr><td>158          </td><td>707127.7500  </td><td>NA           </td><td>      NA     </td><td>      NA     </td><td>           NA</td></tr>\n",
       "\t<tr><td>152          </td><td>   816.8856  </td><td> 6           </td><td>706310.9     </td><td>21904.18     </td><td>1.733715e-220</td></tr>\n",
       "</tbody>\n",
       "</table>\n"
      ],
      "text/latex": [
       "\\begin{tabular}{r|llllll}\n",
       " Res.Df & RSS & Df & Sum of Sq & F & Pr(>F)\\\\\n",
       "\\hline\n",
       "\t 158           & 707127.7500   & NA            &       NA      &       NA      &            NA\\\\\n",
       "\t 152           &    816.8856   &  6            & 706310.9      & 21904.18      & 1.733715e-220\\\\\n",
       "\\end{tabular}\n"
      ],
      "text/markdown": [
       "\n",
       "Res.Df | RSS | Df | Sum of Sq | F | Pr(>F) | \n",
       "|---|---|\n",
       "| 158           | 707127.7500   | NA            |       NA      |       NA      |            NA | \n",
       "| 152           |    816.8856   |  6            | 706310.9      | 21904.18      | 1.733715e-220 | \n",
       "\n",
       "\n"
      ],
      "text/plain": [
       "  Res.Df RSS         Df Sum of Sq F        Pr(>F)       \n",
       "1 158    707127.7500 NA       NA        NA            NA\n",
       "2 152       816.8856  6 706310.9  21904.18 1.733715e-220"
      ]
     },
     "metadata": {},
     "output_type": "display_data"
    }
   ],
   "source": [
    "ucdmodel <- lm(df$height~. ,data=df) \n",
    "ucdnull <- lm(df$height~0,data=df)\n",
    "anova(ucdnull, ucdmodel)"
   ]
  },
  {
   "cell_type": "code",
   "execution_count": 19,
   "metadata": {},
   "outputs": [
    {
     "data": {
      "text/html": [
       "<table>\n",
       "<thead><tr><th></th><th scope=col>Df</th><th scope=col>Sum of Sq</th><th scope=col>RSS</th><th scope=col>AIC</th><th scope=col>F value</th><th scope=col>Pr(&gt;F)</th></tr></thead>\n",
       "<tbody>\n",
       "\t<tr><th scope=row>&lt;none&gt;</th><td>NA          </td><td>        NA  </td><td>2481.217    </td><td>437.1177    </td><td>        NA  </td><td>          NA</td></tr>\n",
       "\t<tr><th scope=row>df$alcohol</th><td> 1          </td><td> 469.91044  </td><td>2011.306    </td><td>405.9433    </td><td> 36.446973  </td><td>1.102539e-08</td></tr>\n",
       "\t<tr><th scope=row>df$dadht</th><td> 1          </td><td> 407.47119  </td><td>2073.746    </td><td>410.7736    </td><td> 30.652509  </td><td>1.279453e-07</td></tr>\n",
       "\t<tr><th scope=row>df$exercise</th><td> 1          </td><td>  33.51155  </td><td>2447.705    </td><td>436.9692    </td><td>  2.135797  </td><td>1.459070e-01</td></tr>\n",
       "\t<tr><th scope=row>df$male</th><td> 1          </td><td>1054.10798  </td><td>1427.109    </td><td>351.7281    </td><td>115.226566  </td><td>1.781274e-20</td></tr>\n",
       "\t<tr><th scope=row>df$momht</th><td> 1          </td><td> 287.01344  </td><td>2194.203    </td><td>419.6947    </td><td> 20.405628  </td><td>1.229868e-05</td></tr>\n",
       "</tbody>\n",
       "</table>\n"
      ],
      "text/latex": [
       "\\begin{tabular}{r|llllll}\n",
       "  & Df & Sum of Sq & RSS & AIC & F value & Pr(>F)\\\\\n",
       "\\hline\n",
       "\t<none> & NA           &         NA   & 2481.217     & 437.1177     &         NA   &           NA\\\\\n",
       "\tdf\\$alcohol &  1           &  469.91044   & 2011.306     & 405.9433     &  36.446973   & 1.102539e-08\\\\\n",
       "\tdf\\$dadht &  1           &  407.47119   & 2073.746     & 410.7736     &  30.652509   & 1.279453e-07\\\\\n",
       "\tdf\\$exercise &  1           &   33.51155   & 2447.705     & 436.9692     &   2.135797   & 1.459070e-01\\\\\n",
       "\tdf\\$male &  1           & 1054.10798   & 1427.109     & 351.7281     & 115.226566   & 1.781274e-20\\\\\n",
       "\tdf\\$momht &  1           &  287.01344   & 2194.203     & 419.6947     &  20.405628   & 1.229868e-05\\\\\n",
       "\\end{tabular}\n"
      ],
      "text/markdown": [
       "\n",
       "| <!--/--> | Df | Sum of Sq | RSS | AIC | F value | Pr(>F) | \n",
       "|---|---|---|---|---|---|\n",
       "| <none> | NA           |         NA   | 2481.217     | 437.1177     |         NA   |           NA | \n",
       "| df$alcohol |  1           |  469.91044   | 2011.306     | 405.9433     |  36.446973   | 1.102539e-08 | \n",
       "| df$dadht |  1           |  407.47119   | 2073.746     | 410.7736     |  30.652509   | 1.279453e-07 | \n",
       "| df$exercise |  1           |   33.51155   | 2447.705     | 436.9692     |   2.135797   | 1.459070e-01 | \n",
       "| df$male |  1           | 1054.10798   | 1427.109     | 351.7281     | 115.226566   | 1.781274e-20 | \n",
       "| df$momht |  1           |  287.01344   | 2194.203     | 419.6947     |  20.405628   | 1.229868e-05 | \n",
       "\n",
       "\n"
      ],
      "text/plain": [
       "            Df Sum of Sq  RSS      AIC      F value    Pr(>F)      \n",
       "<none>      NA         NA 2481.217 437.1177         NA           NA\n",
       "df$alcohol   1  469.91044 2011.306 405.9433  36.446973 1.102539e-08\n",
       "df$dadht     1  407.47119 2073.746 410.7736  30.652509 1.279453e-07\n",
       "df$exercise  1   33.51155 2447.705 436.9692   2.135797 1.459070e-01\n",
       "df$male      1 1054.10798 1427.109 351.7281 115.226566 1.781274e-20\n",
       "df$momht     1  287.01344 2194.203 419.6947  20.405628 1.229868e-05"
      ]
     },
     "metadata": {},
     "output_type": "display_data"
    }
   ],
   "source": [
    "basemodel = lm(df$height ~ 1, data=df)\n",
    "add1(basemodel, scope= ~ . + df$alcohol + df$dadht + df$exercise + df$male+df$momht, test=\"F\")"
   ]
  },
  {
   "cell_type": "markdown",
   "metadata": {},
   "source": [
    "we can select $male$ as the most significant variable"
   ]
  },
  {
   "cell_type": "code",
   "execution_count": 20,
   "metadata": {},
   "outputs": [
    {
     "data": {
      "text/html": [
       "<table>\n",
       "<thead><tr><th></th><th scope=col>Df</th><th scope=col>Sum of Sq</th><th scope=col>RSS</th><th scope=col>AIC</th><th scope=col>F value</th><th scope=col>Pr(&gt;F)</th></tr></thead>\n",
       "<tbody>\n",
       "\t<tr><th scope=row>&lt;none&gt;</th><td>NA          </td><td>        NA  </td><td>1427.1088   </td><td>351.7281    </td><td>         NA </td><td>          NA</td></tr>\n",
       "\t<tr><th scope=row>df$alcohol</th><td> 1          </td><td>152.457027  </td><td>1274.6518   </td><td>335.8777    </td><td>18.53905501 </td><td>2.940880e-05</td></tr>\n",
       "\t<tr><th scope=row>df$dadht</th><td> 1          </td><td>491.253004  </td><td> 935.8558   </td><td>287.0609    </td><td>81.36319355 </td><td>6.773252e-16</td></tr>\n",
       "\t<tr><th scope=row>df$exercise</th><td> 1          </td><td>  0.673549  </td><td>1426.4352   </td><td>353.6535    </td><td> 0.07318951 </td><td>7.871081e-01</td></tr>\n",
       "\t<tr><th scope=row>df$momht</th><td> 1          </td><td>254.987019  </td><td>1172.1218   </td><td>322.6282    </td><td>33.71918248 </td><td>3.492201e-08</td></tr>\n",
       "</tbody>\n",
       "</table>\n"
      ],
      "text/latex": [
       "\\begin{tabular}{r|llllll}\n",
       "  & Df & Sum of Sq & RSS & AIC & F value & Pr(>F)\\\\\n",
       "\\hline\n",
       "\t<none> & NA           &         NA   & 1427.1088    & 351.7281     &          NA  &           NA\\\\\n",
       "\tdf\\$alcohol &  1           & 152.457027   & 1274.6518    & 335.8777     & 18.53905501  & 2.940880e-05\\\\\n",
       "\tdf\\$dadht &  1           & 491.253004   &  935.8558    & 287.0609     & 81.36319355  & 6.773252e-16\\\\\n",
       "\tdf\\$exercise &  1           &   0.673549   & 1426.4352    & 353.6535     &  0.07318951  & 7.871081e-01\\\\\n",
       "\tdf\\$momht &  1           & 254.987019   & 1172.1218    & 322.6282     & 33.71918248  & 3.492201e-08\\\\\n",
       "\\end{tabular}\n"
      ],
      "text/markdown": [
       "\n",
       "| <!--/--> | Df | Sum of Sq | RSS | AIC | F value | Pr(>F) | \n",
       "|---|---|---|---|---|\n",
       "| <none> | NA           |         NA   | 1427.1088    | 351.7281     |          NA  |           NA | \n",
       "| df$alcohol |  1           | 152.457027   | 1274.6518    | 335.8777     | 18.53905501  | 2.940880e-05 | \n",
       "| df$dadht |  1           | 491.253004   |  935.8558    | 287.0609     | 81.36319355  | 6.773252e-16 | \n",
       "| df$exercise |  1           |   0.673549   | 1426.4352    | 353.6535     |  0.07318951  | 7.871081e-01 | \n",
       "| df$momht |  1           | 254.987019   | 1172.1218    | 322.6282     | 33.71918248  | 3.492201e-08 | \n",
       "\n",
       "\n"
      ],
      "text/plain": [
       "            Df Sum of Sq  RSS       AIC      F value     Pr(>F)      \n",
       "<none>      NA         NA 1427.1088 351.7281          NA           NA\n",
       "df$alcohol   1 152.457027 1274.6518 335.8777 18.53905501 2.940880e-05\n",
       "df$dadht     1 491.253004  935.8558 287.0609 81.36319355 6.773252e-16\n",
       "df$exercise  1   0.673549 1426.4352 353.6535  0.07318951 7.871081e-01\n",
       "df$momht     1 254.987019 1172.1218 322.6282 33.71918248 3.492201e-08"
      ]
     },
     "metadata": {},
     "output_type": "display_data"
    }
   ],
   "source": [
    "model2=lm(df$height ~ 1+df$male, data=df)\n",
    "add1(model2, scope= ~ . + df$alcohol + df$dadht + df$exercise+df$momht, test=\"F\")"
   ]
  },
  {
   "cell_type": "markdown",
   "metadata": {},
   "source": [
    "we can select $dadht$ as the most significant variable"
   ]
  },
  {
   "cell_type": "code",
   "execution_count": 21,
   "metadata": {},
   "outputs": [
    {
     "data": {
      "text/html": [
       "<table>\n",
       "<thead><tr><th></th><th scope=col>Df</th><th scope=col>Sum of Sq</th><th scope=col>RSS</th><th scope=col>AIC</th><th scope=col>F value</th><th scope=col>Pr(&gt;F)</th></tr></thead>\n",
       "<tbody>\n",
       "\t<tr><th scope=row>&lt;none&gt;</th><td>NA          </td><td>       NA   </td><td>935.8558    </td><td>287.0609    </td><td>        NA  </td><td>          NA</td></tr>\n",
       "\t<tr><th scope=row>df$alcohol</th><td> 1          </td><td>29.861574   </td><td>905.9942    </td><td>283.9372    </td><td> 5.0758409  </td><td>2.567401e-02</td></tr>\n",
       "\t<tr><th scope=row>df$exercise</th><td> 1          </td><td> 3.865614   </td><td>931.9902    </td><td>288.4069    </td><td> 0.6387456  </td><td>4.253964e-01</td></tr>\n",
       "\t<tr><th scope=row>df$momht</th><td> 1          </td><td>95.252949   </td><td>840.6028    </td><td>272.1008    </td><td>17.4505170  </td><td>4.922882e-05</td></tr>\n",
       "</tbody>\n",
       "</table>\n"
      ],
      "text/latex": [
       "\\begin{tabular}{r|llllll}\n",
       "  & Df & Sum of Sq & RSS & AIC & F value & Pr(>F)\\\\\n",
       "\\hline\n",
       "\t<none> & NA           &        NA    & 935.8558     & 287.0609     &         NA   &           NA\\\\\n",
       "\tdf\\$alcohol &  1           & 29.861574    & 905.9942     & 283.9372     &  5.0758409   & 2.567401e-02\\\\\n",
       "\tdf\\$exercise &  1           &  3.865614    & 931.9902     & 288.4069     &  0.6387456   & 4.253964e-01\\\\\n",
       "\tdf\\$momht &  1           & 95.252949    & 840.6028     & 272.1008     & 17.4505170   & 4.922882e-05\\\\\n",
       "\\end{tabular}\n"
      ],
      "text/markdown": [
       "\n",
       "| <!--/--> | Df | Sum of Sq | RSS | AIC | F value | Pr(>F) | \n",
       "|---|---|---|---|\n",
       "| <none> | NA           |        NA    | 935.8558     | 287.0609     |         NA   |           NA | \n",
       "| df$alcohol |  1           | 29.861574    | 905.9942     | 283.9372     |  5.0758409   | 2.567401e-02 | \n",
       "| df$exercise |  1           |  3.865614    | 931.9902     | 288.4069     |  0.6387456   | 4.253964e-01 | \n",
       "| df$momht |  1           | 95.252949    | 840.6028     | 272.1008     | 17.4505170   | 4.922882e-05 | \n",
       "\n",
       "\n"
      ],
      "text/plain": [
       "            Df Sum of Sq RSS      AIC      F value    Pr(>F)      \n",
       "<none>      NA        NA 935.8558 287.0609         NA           NA\n",
       "df$alcohol   1 29.861574 905.9942 283.9372  5.0758409 2.567401e-02\n",
       "df$exercise  1  3.865614 931.9902 288.4069  0.6387456 4.253964e-01\n",
       "df$momht     1 95.252949 840.6028 272.1008 17.4505170 4.922882e-05"
      ]
     },
     "metadata": {},
     "output_type": "display_data"
    }
   ],
   "source": [
    "model3=lm(df$height ~ 1+df$male+df$dadht, data=df)\n",
    "add1(model3, scope= ~ . + df$alcohol + df$exercise+df$momht, test=\"F\")"
   ]
  },
  {
   "cell_type": "markdown",
   "metadata": {},
   "source": [
    "we can select $momht$ as the most significant variable"
   ]
  },
  {
   "cell_type": "code",
   "execution_count": 22,
   "metadata": {},
   "outputs": [
    {
     "data": {
      "text/html": [
       "<table>\n",
       "<thead><tr><th></th><th scope=col>Df</th><th scope=col>Sum of Sq</th><th scope=col>RSS</th><th scope=col>AIC</th><th scope=col>F value</th><th scope=col>Pr(&gt;F)</th></tr></thead>\n",
       "<tbody>\n",
       "\t<tr><th scope=row>&lt;none&gt;</th><td>NA        </td><td>       NA </td><td>840.6028  </td><td>272.1008  </td><td>       NA </td><td>        NA</td></tr>\n",
       "\t<tr><th scope=row>df$alcohol</th><td> 1        </td><td>15.860690 </td><td>824.7421  </td><td>271.0912  </td><td>2.9423566 </td><td>0.08830918</td></tr>\n",
       "\t<tr><th scope=row>df$exercise</th><td> 1        </td><td> 3.540474 </td><td>837.0624  </td><td>273.4340  </td><td>0.6471352 </td><td>0.42238701</td></tr>\n",
       "</tbody>\n",
       "</table>\n"
      ],
      "text/latex": [
       "\\begin{tabular}{r|llllll}\n",
       "  & Df & Sum of Sq & RSS & AIC & F value & Pr(>F)\\\\\n",
       "\\hline\n",
       "\t<none> & NA         &        NA  & 840.6028   & 272.1008   &        NA  &         NA\\\\\n",
       "\tdf\\$alcohol &  1         & 15.860690  & 824.7421   & 271.0912   & 2.9423566  & 0.08830918\\\\\n",
       "\tdf\\$exercise &  1         &  3.540474  & 837.0624   & 273.4340   & 0.6471352  & 0.42238701\\\\\n",
       "\\end{tabular}\n"
      ],
      "text/markdown": [
       "\n",
       "| <!--/--> | Df | Sum of Sq | RSS | AIC | F value | Pr(>F) | \n",
       "|---|---|---|\n",
       "| <none> | NA         |        NA  | 840.6028   | 272.1008   |        NA  |         NA | \n",
       "| df$alcohol |  1         | 15.860690  | 824.7421   | 271.0912   | 2.9423566  | 0.08830918 | \n",
       "| df$exercise |  1         |  3.540474  | 837.0624   | 273.4340   | 0.6471352  | 0.42238701 | \n",
       "\n",
       "\n"
      ],
      "text/plain": [
       "            Df Sum of Sq RSS      AIC      F value   Pr(>F)    \n",
       "<none>      NA        NA 840.6028 272.1008        NA         NA\n",
       "df$alcohol   1 15.860690 824.7421 271.0912 2.9423566 0.08830918\n",
       "df$exercise  1  3.540474 837.0624 273.4340 0.6471352 0.42238701"
      ]
     },
     "metadata": {},
     "output_type": "display_data"
    }
   ],
   "source": [
    "model4=lm(df$height ~ 1+df$male+df$dadht+df$momht, data=df)\n",
    "add1(model4, scope= ~ . + df$alcohol + df$exercise, test=\"F\")"
   ]
  },
  {
   "cell_type": "markdown",
   "metadata": {},
   "source": [
    "We use variables $male$, $dadht$, $momht$ for final model as the rest are not significant, the final model is:"
   ]
  },
  {
   "cell_type": "code",
   "execution_count": 23,
   "metadata": {},
   "outputs": [
    {
     "data": {
      "text/plain": [
       "\n",
       "Call:\n",
       "lm(formula = df$height ~ 1 + df$male + df$dadht + df$momht, data = df)\n",
       "\n",
       "Residuals:\n",
       "     Min       1Q   Median       3Q      Max \n",
       "-10.7416  -1.4615   0.0767   1.5102   5.9709 \n",
       "\n",
       "Coefficients:\n",
       "            Estimate Std. Error t value Pr(>|t|)    \n",
       "(Intercept) 17.62164    4.82199   3.654 0.000353 ***\n",
       "df$male      5.32577    0.37480  14.210  < 2e-16 ***\n",
       "df$dadht     0.40761    0.05230   7.793 9.07e-13 ***\n",
       "df$momht     0.29331    0.07021   4.177 4.92e-05 ***\n",
       "---\n",
       "Signif. codes:  0 ‘***’ 0.001 ‘**’ 0.01 ‘*’ 0.05 ‘.’ 0.1 ‘ ’ 1\n",
       "\n",
       "Residual standard error: 2.336 on 154 degrees of freedom\n",
       "Multiple R-squared:  0.6612,\tAdjusted R-squared:  0.6546 \n",
       "F-statistic: 100.2 on 3 and 154 DF,  p-value: < 2.2e-16\n"
      ]
     },
     "metadata": {},
     "output_type": "display_data"
    }
   ],
   "source": [
    "summary(model4)"
   ]
  },
  {
   "cell_type": "markdown",
   "metadata": {},
   "source": [
    "<b>d)</b>Starting from a full model, use stepwise selection with AIC to select variables for your model.\n",
    "Use this as your final model; comment briefly on the variables included."
   ]
  },
  {
   "cell_type": "code",
   "execution_count": 24,
   "metadata": {},
   "outputs": [
    {
     "data": {
      "text/plain": [
       "\n",
       "Call:\n",
       "lm(formula = df$height ~ ., data = df)\n",
       "\n",
       "Residuals:\n",
       "     Min       1Q   Median       3Q      Max \n",
       "-10.2166  -1.4627   0.0494   1.4502   6.2616 \n",
       "\n",
       "Coefficients:\n",
       "            Estimate Std. Error t value Pr(>|t|)    \n",
       "(Intercept) 20.94900    5.08126   4.123 6.14e-05 ***\n",
       "alcohol      0.05068    0.02616   1.938 0.054524 .  \n",
       "exercise    -0.05442    0.04501  -1.209 0.228506    \n",
       "male         5.16073    0.39794  12.969  < 2e-16 ***\n",
       "dadht        0.38182    0.05394   7.079 5.01e-11 ***\n",
       "momht        0.27060    0.07061   3.832 0.000185 ***\n",
       "---\n",
       "Signif. codes:  0 ‘***’ 0.001 ‘**’ 0.01 ‘*’ 0.05 ‘.’ 0.1 ‘ ’ 1\n",
       "\n",
       "Residual standard error: 2.318 on 152 degrees of freedom\n",
       "Multiple R-squared:  0.6708,\tAdjusted R-squared:  0.6599 \n",
       "F-statistic: 61.94 on 5 and 152 DF,  p-value: < 2.2e-16\n"
      ]
     },
     "metadata": {},
     "output_type": "display_data"
    }
   ],
   "source": [
    "fullmodel =lm(df$height ~ . ,data=df)\n",
    "summary(fullmodel)"
   ]
  },
  {
   "cell_type": "code",
   "execution_count": 25,
   "metadata": {},
   "outputs": [
    {
     "name": "stdout",
     "output_type": "stream",
     "text": [
      "Start:  AIC=271.58\n",
      "df$height ~ alcohol + exercise + male + dadht + momht\n",
      "\n",
      "           Df Sum of Sq     RSS    AIC\n",
      "- exercise  1      7.86  824.74 271.09\n",
      "<none>                   816.89 271.58\n",
      "- alcohol   1     20.18  837.06 273.43\n",
      "- momht     1     78.93  895.82 284.15\n",
      "- dadht     1    269.34 1086.22 314.60\n",
      "- male      1    903.86 1720.74 387.29\n",
      "\n",
      "Step:  AIC=271.09\n",
      "df$height ~ alcohol + male + dadht + momht\n",
      "\n",
      "              Df Sum of Sq     RSS    AIC\n",
      "<none>                      824.74 271.09\n",
      "+ exercise     1      7.86  816.89 271.58\n",
      "+ df$exercise  1      7.86  816.89 271.58\n",
      "- alcohol      1     15.86  840.60 272.10\n",
      "- momht        1     81.25  905.99 283.94\n",
      "- dadht        1    270.17 1094.91 313.86\n",
      "- male         1    897.14 1721.88 385.40\n"
     ]
    }
   ],
   "source": [
    "final_model= step(fullmodel, scope= ~ . + df$exercise + df$alcohol  + df$male + df$dadht + df$momht)"
   ]
  },
  {
   "cell_type": "code",
   "execution_count": 26,
   "metadata": {},
   "outputs": [
    {
     "data": {
      "text/plain": [
       "\n",
       "Call:\n",
       "lm(formula = df$height ~ alcohol + male + dadht + momht, data = df)\n",
       "\n",
       "Residuals:\n",
       "    Min      1Q  Median      3Q     Max \n",
       "-11.213  -1.400   0.052   1.523   6.240 \n",
       "\n",
       "Coefficients:\n",
       "            Estimate Std. Error t value Pr(>|t|)    \n",
       "(Intercept) 20.48579    5.07444   4.037 8.53e-05 ***\n",
       "alcohol      0.04388    0.02558   1.715 0.088309 .  \n",
       "male         5.09892    0.39524  12.901  < 2e-16 ***\n",
       "dadht        0.38240    0.05401   7.079 4.90e-11 ***\n",
       "momht        0.27429    0.07065   3.882 0.000153 ***\n",
       "---\n",
       "Signif. codes:  0 ‘***’ 0.001 ‘**’ 0.01 ‘*’ 0.05 ‘.’ 0.1 ‘ ’ 1\n",
       "\n",
       "Residual standard error: 2.322 on 153 degrees of freedom\n",
       "Multiple R-squared:  0.6676,\tAdjusted R-squared:  0.6589 \n",
       "F-statistic: 76.82 on 4 and 153 DF,  p-value: < 2.2e-16\n"
      ]
     },
     "metadata": {},
     "output_type": "display_data"
    }
   ],
   "source": [
    "summary(final_model)"
   ]
  },
  {
   "cell_type": "markdown",
   "metadata": {},
   "source": [
    "The final model includes $alcohol,\\ male,\\ dadht,\\ and\\ momht$. It is shown $male$ variable has a strong signficance in the model and alcohol is not that relevant. $Dadht$ and $momht$ are less significant but they are also important for the model.\n",
    "\n"
   ]
  },
  {
   "cell_type": "markdown",
   "metadata": {},
   "source": [
    "<b>e)</b>Test whether the parameters corresponding to father’s and mother’s heights are equal"
   ]
  },
  {
   "cell_type": "markdown",
   "metadata": {},
   "source": [
    "Let $\\beta=\\left[ \\begin{array}{beta}\n",
    "\\beta_{alcohol} \\\\ \\beta_{male} \\\\ \\beta_{dadht} \\\\ \\beta_{momht} \\\\ \\end{array} \\right]$, <br><br>\n",
    "We want to test: $H_0:\\beta_{dadht}=\\beta_{momht}$, and <br> $H_1:\\beta_{dadht} \\neq \\beta_{momht}$"
   ]
  },
  {
   "cell_type": "markdown",
   "metadata": {},
   "source": [
    "we can write the hypothesis defining:\n",
    "$C=\\left[ \\begin{array}{C}\n",
    "0& 0 & 0 & 1 & -1 \\\\ \\end{array} \\right]$, $\\delta^*=\\left[ \\begin{array}{sigma}\n",
    "0 \\\\ \\end{array} \\right]$\n",
    "<br>\n",
    "If we test $H_0: C\\beta=\\delta^*$, this is equivalent to:<br>\n",
    "$\\beta_{dadht}=\\beta_{momht}$\n"
   ]
  },
  {
   "cell_type": "code",
   "execution_count": 27,
   "metadata": {},
   "outputs": [
    {
     "name": "stdout",
     "output_type": "stream",
     "text": [
      "         [,1]\n",
      "[1,] 1.189289\n",
      "          [,1]\n",
      "[1,] 0.2771988\n"
     ]
    }
   ],
   "source": [
    "n=dim(X)[1]\n",
    "p=dim(X)[2]\n",
    "X =as.matrix(cbind(rep(1,n),df[,-2:-3])) \n",
    "y=df$height\n",
    "b=final_model$coefficients\n",
    "dst =c(0)\n",
    "C = matrix(c(0,0,0,1,-1),1,5)\n",
    "r = 1\n",
    "SSRes=t(y-X%*%b)%*%(y-X%*%b)\n",
    "num = t(C%*%b-dst)%*%solve(C%*%solve(t(X)%*%X)%*%t(C))%*%(C%*%b-dst)/r\n",
    "Fstat=num/(SSRes/(n-p))\n",
    "print(Fstat)\n",
    "print(pf(Fstat, r, n-p, lower=F))"
   ]
  },
  {
   "cell_type": "markdown",
   "metadata": {},
   "source": [
    "We failed to reject the null hypothesis, parameters could be equal."
   ]
  },
  {
   "cell_type": "markdown",
   "metadata": {},
   "source": [
    "<b>f)</b>Comment on the suitability of your final model, using diagnostic plots."
   ]
  },
  {
   "cell_type": "code",
   "execution_count": 28,
   "metadata": {},
   "outputs": [
    {
     "data": {
      "image/png": "[encoded data removed]",
      "text/plain": [
       "Plot with title “”"
      ]
     },
     "metadata": {},
     "output_type": "display_data",
     "source": "R display func"
    }
   ],
   "source": [
    "par(mfrow=c(2,2),fg=color_line,col.axis=color_line,col.sub = color_line,col.lab=color_line)\n",
    "plot(final_model)"
   ]
  },
  {
   "cell_type": "markdown",
   "metadata": {},
   "source": [
    "The model is suitable, there is a slight trend in residuals but not enough to make a conclusion. Residuals seems to fit a Normal Distribution but further investigation needs to be done with one outlier. We do not have any warnings with leverage and the outlier causing departure from normality does not have a strong leverage. "
   ]
  },
  {
   "cell_type": "markdown",
   "metadata": {},
   "source": [
    "## Problem 4"
   ]
  },
  {
   "cell_type": "markdown",
   "metadata": {},
   "source": [
    "A study was conducted to determine the effect of the size of the root system on the growth of Douglas-fir seedlings when they are planted out. Seedlings were obtained from three seed lots, and when they were planted out their root volume was classified as small $(RV1)$, medium $(RV2)$, or large $(RV3)$. The heights of the seedlings were then measured at the end of the first growing season. The data from the experiment is given in the file $douglas.csv$"
   ]
  },
  {
   "cell_type": "markdown",
   "metadata": {},
   "source": [
    "<b>a)</b>Fit a linear model with interaction to the data. Calculate a confidence interval for the difference between the heights of large $(RV3)$ and medium $(RV2)$ seedlings in the $B349$ seed lot."
   ]
  },
  {
   "cell_type": "code",
   "execution_count": 29,
   "metadata": {},
   "outputs": [
    {
     "data": {
      "text/plain": [
       "\n",
       "Call:\n",
       "lm(formula = douglas$Height ~ RootVolume * SeedLot, data = douglas)\n",
       "\n",
       "Residuals:\n",
       "    Min      1Q  Median      3Q     Max \n",
       "-3.3383 -1.2537  0.0217  0.7733  4.0517 \n",
       "\n",
       "Coefficients:\n",
       "                          Estimate Std. Error t value Pr(>|t|)    \n",
       "(Intercept)                46.5050     0.7123  65.286  < 2e-16 ***\n",
       "RootVolumeRV2               7.0000     1.0074   6.949 1.21e-08 ***\n",
       "RootVolumeRV3               8.3450     1.0074   8.284 1.34e-10 ***\n",
       "SeedLotB349                 3.0833     1.0074   3.061  0.00372 ** \n",
       "SeedLotJ052                 1.7217     1.0074   1.709  0.09433 .  \n",
       "RootVolumeRV2:SeedLotB349  -0.7133     1.4246  -0.501  0.61902    \n",
       "RootVolumeRV3:SeedLotB349   1.4083     1.4246   0.989  0.32817    \n",
       "RootVolumeRV2:SeedLotJ052  -1.6600     1.4246  -1.165  0.25008    \n",
       "RootVolumeRV3:SeedLotJ052   0.3783     1.4246   0.266  0.79179    \n",
       "---\n",
       "Signif. codes:  0 ‘***’ 0.001 ‘**’ 0.01 ‘*’ 0.05 ‘.’ 0.1 ‘ ’ 1\n",
       "\n",
       "Residual standard error: 1.745 on 45 degrees of freedom\n",
       "Multiple R-squared:  0.8635,\tAdjusted R-squared:  0.8393 \n",
       "F-statistic: 35.59 on 8 and 45 DF,  p-value: < 2.2e-16\n"
      ]
     },
     "metadata": {},
     "output_type": "display_data"
    }
   ],
   "source": [
    "douglas=read.csv(\"res/douglas.csv\")\n",
    "douglas=douglas[,-1]\n",
    "douglas$RootVolume=factor(douglas$RootVolume)\n",
    "douglas$SeedLot=factor(douglas$SeedLot)\n",
    "model_douglas= lm(douglas$Height~RootVolume*SeedLot, data=douglas)\n",
    "summary(model_douglas)"
   ]
  },
  {
   "cell_type": "code",
   "execution_count": 34,
   "metadata": {},
   "outputs": [
    {
     "data": {
      "text/html": [
       "<table>\n",
       "<thead><tr><th></th><th scope=col>Estimate</th><th scope=col>Std. Error</th><th scope=col>t value</th><th scope=col>DF</th><th scope=col>Pr(&gt;|t|)</th><th scope=col>Lower.CI</th><th scope=col>Upper.CI</th></tr></thead>\n",
       "<tbody>\n",
       "\t<tr><th scope=row>(0 0 0 0 0 -1 1 0 0)</th><td>2.121667  </td><td>1.424648  </td><td>1.489257  </td><td>45        </td><td>0.1433955 </td><td>-0.7477217</td><td>4.991055  </td></tr>\n",
       "</tbody>\n",
       "</table>\n"
      ],
      "text/latex": [
       "\\begin{tabular}{r|lllllll}\n",
       "  & Estimate & Std. Error & t value & DF & Pr(>\\textbar{}t\\textbar{}) & Lower.CI & Upper.CI\\\\\n",
       "\\hline\n",
       "\t(0 0 0 0 0 -1 1 0 0) & 2.121667   & 1.424648   & 1.489257   & 45         & 0.1433955  & -0.7477217 & 4.991055  \\\\\n",
       "\\end{tabular}\n"
      ],
      "text/markdown": [
       "\n",
       "| <!--/--> | Estimate | Std. Error | t value | DF | Pr(>|t|) | Lower.CI | Upper.CI | \n",
       "|---|\n",
       "| (0 0 0 0 0 -1 1 0 0) | 2.121667   | 1.424648   | 1.489257   | 45         | 0.1433955  | -0.7477217 | 4.991055   | \n",
       "\n",
       "\n"
      ],
      "text/plain": [
       "                     Estimate Std. Error t value  DF Pr(>|t|)  Lower.CI  \n",
       "(0 0 0 0 0 -1 1 0 0) 2.121667 1.424648   1.489257 45 0.1433955 -0.7477217\n",
       "                     Upper.CI\n",
       "(0 0 0 0 0 -1 1 0 0) 4.991055"
      ]
     },
     "metadata": {},
     "output_type": "display_data"
    }
   ],
   "source": [
    "library(gmodels)\n",
    "estimable(model_douglas, c(0,0,0,0,0,-1,1,0,0), conf.int=0.95)"
   ]
  },
  {
   "cell_type": "markdown",
   "metadata": {},
   "source": [
    " <b>b)</b>Is it possible to estimate, from this model, an overall difference between the heights of large and medium seedlings?"
   ]
  },
  {
   "cell_type": "markdown",
   "metadata": {},
   "source": [
    "It is not possible since we have one lot interaction missing for those seedlings."
   ]
  },
  {
   "cell_type": "markdown",
   "metadata": {},
   "source": [
    "<b>c)</b>Test the hypothesis that the height of seedlings from the J052 plot has no dependence on root volume."
   ]
  },
  {
   "cell_type": "markdown",
   "metadata": {},
   "source": [
    "$H_0:RootVolumeRV2:SeedLotJ052  + RootVolumeRV3:SeedLotJ052 = 0$, $H_1:RootVolumeRV2:SeedLotJ052  + RootVolumeRV3:SeedLotJ052 \\neq 0$"
   ]
  },
  {
   "cell_type": "markdown",
   "metadata": {},
   "source": [
    "> c <- matrix(c(0,0,0,0,0,0,0,1,1),1,9)\n",
    "> linearHypothesis(imodel,c,0)\n",
    "Linear hypothesis test\n",
    "\n",
    "Hypothesis:\n",
    "RootVolumeRV2:SeedLotJ052  + RootVolumeRV3:SeedLotJ052 = 0\n",
    "\n",
    "Model 1: restricted model\n",
    "Model 2: Height ~ RootVolume * SeedLot\n",
    "\n",
    "  Res.Df    RSS Df Sum of Sq      F Pr(>F)\n",
    "1     46 137.82                           \n",
    "2     45 137.00  1   0.82133 0.2698  0.606"
   ]
  },
  {
   "cell_type": "code",
   "execution_count": null,
   "metadata": {},
   "outputs": [],
   "source": [
    "We failed to reject the Null Hypothesis"
   ]
  },
  {
   "cell_type": "markdown",
   "metadata": {},
   "source": [
    "<b>d)</b>Generate an interaction plot for the data. Is there any evidence of an interaction?\n"
   ]
  },
  {
   "cell_type": "code",
   "execution_count": 40,
   "metadata": {},
   "outputs": [
    {
     "data": {
      "image/png": "[encoded data removed]",
      "text/plain": [
       "plot without title"
      ]
     },
     "metadata": {},
     "output_type": "display_data",
     "source": "R display func"
    }
   ],
   "source": [
    "par(mfrow=c(2,2),fg=color_line,col.axis=color_line,col.sub = color_line,col.lab=color_line,bg=\"gray\")\n",
    "with(douglas, interaction.plot(douglas$SeedLot,douglas$RootVolume, douglas$Height))"
   ]
  },
  {
   "cell_type": "markdown",
   "metadata": {},
   "source": [
    "Lines are mostly parallel, it seems that there is no evidence of interaction."
   ]
  },
  {
   "cell_type": "markdown",
   "metadata": {},
   "source": [
    "<b>e)</b>Test for the presence of interaction between root volume and seed lot."
   ]
  },
  {
   "cell_type": "code",
   "execution_count": 39,
   "metadata": {},
   "outputs": [
    {
     "data": {
      "text/html": [
       "<table>\n",
       "<thead><tr><th></th><th scope=col>Df</th><th scope=col>Sum Sq</th><th scope=col>Mean Sq</th><th scope=col>F value</th><th scope=col>Pr(&gt;F)</th></tr></thead>\n",
       "<tbody>\n",
       "\t<tr><th scope=row>RootVolume</th><td> 2          </td><td>755.67503   </td><td>377.837513  </td><td>124.1076803 </td><td>4.848199e-19</td></tr>\n",
       "\t<tr><th scope=row>SeedLot</th><td> 2          </td><td>100.48474   </td><td> 50.242369  </td><td> 16.5030300 </td><td>4.211083e-06</td></tr>\n",
       "\t<tr><th scope=row>RootVolume:SeedLot</th><td> 4          </td><td> 10.67419   </td><td>  2.668546  </td><td>  0.8765331 </td><td>4.855229e-01</td></tr>\n",
       "\t<tr><th scope=row>Residuals</th><td>45          </td><td>136.99948   </td><td>  3.044433  </td><td>         NA </td><td>          NA</td></tr>\n",
       "</tbody>\n",
       "</table>\n"
      ],
      "text/latex": [
       "\\begin{tabular}{r|lllll}\n",
       "  & Df & Sum Sq & Mean Sq & F value & Pr(>F)\\\\\n",
       "\\hline\n",
       "\tRootVolume &  2           & 755.67503    & 377.837513   & 124.1076803  & 4.848199e-19\\\\\n",
       "\tSeedLot &  2           & 100.48474    &  50.242369   &  16.5030300  & 4.211083e-06\\\\\n",
       "\tRootVolume:SeedLot &  4           &  10.67419    &   2.668546   &   0.8765331  & 4.855229e-01\\\\\n",
       "\tResiduals & 45           & 136.99948    &   3.044433   &          NA  &           NA\\\\\n",
       "\\end{tabular}\n"
      ],
      "text/markdown": [
       "\n",
       "| <!--/--> | Df | Sum Sq | Mean Sq | F value | Pr(>F) | \n",
       "|---|---|---|---|\n",
       "| RootVolume |  2           | 755.67503    | 377.837513   | 124.1076803  | 4.848199e-19 | \n",
       "| SeedLot |  2           | 100.48474    |  50.242369   |  16.5030300  | 4.211083e-06 | \n",
       "| RootVolume:SeedLot |  4           |  10.67419    |   2.668546   |   0.8765331  | 4.855229e-01 | \n",
       "| Residuals | 45           | 136.99948    |   3.044433   |          NA  |           NA | \n",
       "\n",
       "\n"
      ],
      "text/plain": [
       "                   Df Sum Sq    Mean Sq    F value     Pr(>F)      \n",
       "RootVolume          2 755.67503 377.837513 124.1076803 4.848199e-19\n",
       "SeedLot             2 100.48474  50.242369  16.5030300 4.211083e-06\n",
       "RootVolume:SeedLot  4  10.67419   2.668546   0.8765331 4.855229e-01\n",
       "Residuals          45 136.99948   3.044433          NA           NA"
      ]
     },
     "metadata": {},
     "output_type": "display_data"
    }
   ],
   "source": [
    "anova(model_douglas)"
   ]
  },
  {
   "cell_type": "markdown",
   "metadata": {},
   "source": [
    "Interaction between root volume and seedlot is not significant (F value = 0.876)."
   ]
  },
  {
   "cell_type": "markdown",
   "metadata": {},
   "source": [
    "<b>f)</b>Perform forwards selection to determine a final model."
   ]
  },
  {
   "cell_type": "code",
   "execution_count": 52,
   "metadata": {},
   "outputs": [
    {
     "data": {
      "text/html": [
       "<table>\n",
       "<thead><tr><th></th><th scope=col>Df</th><th scope=col>Sum of Sq</th><th scope=col>RSS</th><th scope=col>AIC</th><th scope=col>F value</th><th scope=col>Pr(&gt;F)</th></tr></thead>\n",
       "<tbody>\n",
       "\t<tr><th scope=row>&lt;none&gt;</th><td>NA          </td><td>      NA    </td><td>1003.8334   </td><td>159.82026   </td><td>       NA   </td><td>          NA</td></tr>\n",
       "\t<tr><th scope=row>douglas$RootVolume</th><td> 2          </td><td>755.6750    </td><td> 248.1584   </td><td> 88.35449   </td><td>77.650858   </td><td>3.335931e-16</td></tr>\n",
       "\t<tr><th scope=row>douglas$SeedLot</th><td> 2          </td><td>100.4847    </td><td> 903.3487   </td><td>158.12473   </td><td> 2.836514   </td><td>6.791114e-02</td></tr>\n",
       "</tbody>\n",
       "</table>\n"
      ],
      "text/latex": [
       "\\begin{tabular}{r|llllll}\n",
       "  & Df & Sum of Sq & RSS & AIC & F value & Pr(>F)\\\\\n",
       "\\hline\n",
       "\t<none> & NA           &       NA     & 1003.8334    & 159.82026    &        NA    &           NA\\\\\n",
       "\tdouglas\\$RootVolume &  2           & 755.6750     &  248.1584    &  88.35449    & 77.650858    & 3.335931e-16\\\\\n",
       "\tdouglas\\$SeedLot &  2           & 100.4847     &  903.3487    & 158.12473    &  2.836514    & 6.791114e-02\\\\\n",
       "\\end{tabular}\n"
      ],
      "text/markdown": [
       "\n",
       "| <!--/--> | Df | Sum of Sq | RSS | AIC | F value | Pr(>F) | \n",
       "|---|---|---|\n",
       "| <none> | NA           |       NA     | 1003.8334    | 159.82026    |        NA    |           NA | \n",
       "| douglas$RootVolume |  2           | 755.6750     |  248.1584    |  88.35449    | 77.650858    | 3.335931e-16 | \n",
       "| douglas$SeedLot |  2           | 100.4847     |  903.3487    | 158.12473    |  2.836514    | 6.791114e-02 | \n",
       "\n",
       "\n"
      ],
      "text/plain": [
       "                   Df Sum of Sq RSS       AIC       F value   Pr(>F)      \n",
       "<none>             NA       NA  1003.8334 159.82026        NA           NA\n",
       "douglas$RootVolume  2 755.6750   248.1584  88.35449 77.650858 3.335931e-16\n",
       "douglas$SeedLot     2 100.4847   903.3487 158.12473  2.836514 6.791114e-02"
      ]
     },
     "metadata": {},
     "output_type": "display_data"
    }
   ],
   "source": [
    "basemodel = lm(douglas$Height~1, data=douglas)\n",
    "add1(basemodel, scope= ~ . +douglas$RootVolume*douglas$SeedLot, test=\"F\")"
   ]
  },
  {
   "cell_type": "code",
   "execution_count": 58,
   "metadata": {},
   "outputs": [
    {
     "data": {
      "text/html": [
       "<table>\n",
       "<thead><tr><th></th><th scope=col>Df</th><th scope=col>Sum of Sq</th><th scope=col>RSS</th><th scope=col>AIC</th><th scope=col>F value</th><th scope=col>Pr(&gt;F)</th></tr></thead>\n",
       "<tbody>\n",
       "\t<tr><th scope=row>&lt;none&gt;</th><td>NA         </td><td>      NA   </td><td>248.1584   </td><td>88.35449   </td><td>      NA   </td><td>         NA</td></tr>\n",
       "\t<tr><th scope=row>douglas$SeedLot</th><td> 2         </td><td>100.4847   </td><td>147.6737   </td><td>64.32513   </td><td>16.67106   </td><td>2.99961e-06</td></tr>\n",
       "</tbody>\n",
       "</table>\n"
      ],
      "text/latex": [
       "\\begin{tabular}{r|llllll}\n",
       "  & Df & Sum of Sq & RSS & AIC & F value & Pr(>F)\\\\\n",
       "\\hline\n",
       "\t<none> & NA          &       NA    & 248.1584    & 88.35449    &       NA    &          NA\\\\\n",
       "\tdouglas\\$SeedLot &  2          & 100.4847    & 147.6737    & 64.32513    & 16.67106    & 2.99961e-06\\\\\n",
       "\\end{tabular}\n"
      ],
      "text/markdown": [
       "\n",
       "| <!--/--> | Df | Sum of Sq | RSS | AIC | F value | Pr(>F) | \n",
       "|---|---|\n",
       "| <none> | NA          |       NA    | 248.1584    | 88.35449    |       NA    |          NA | \n",
       "| douglas$SeedLot |  2          | 100.4847    | 147.6737    | 64.32513    | 16.67106    | 2.99961e-06 | \n",
       "\n",
       "\n"
      ],
      "text/plain": [
       "                Df Sum of Sq RSS      AIC      F value  Pr(>F)     \n",
       "<none>          NA       NA  248.1584 88.35449       NA          NA\n",
       "douglas$SeedLot  2 100.4847  147.6737 64.32513 16.67106 2.99961e-06"
      ]
     },
     "metadata": {},
     "output_type": "display_data"
    }
   ],
   "source": [
    "model1 = lm(douglas$Height~1+douglas$RootVolume, data=douglas)\n",
    "add1(model1, scope= ~ . +douglas$SeedLot, test=\"F\")"
   ]
  },
  {
   "cell_type": "code",
   "execution_count": 66,
   "metadata": {},
   "outputs": [],
   "source": [
    "model2 = lm(douglas$Height~1+douglas$RootVolume+douglas$SeedLot, data=douglas)"
   ]
  },
  {
   "cell_type": "code",
   "execution_count": 67,
   "metadata": {},
   "outputs": [
    {
     "data": {
      "text/plain": [
       "\n",
       "Call:\n",
       "lm(formula = douglas$Height ~ 1 + douglas$RootVolume + douglas$SeedLot, \n",
       "    data = douglas)\n",
       "\n",
       "Residuals:\n",
       "    Min      1Q  Median      3Q     Max \n",
       "-3.6352 -1.2244  0.0979  1.0551  3.7548 \n",
       "\n",
       "Coefficients:\n",
       "                      Estimate Std. Error t value Pr(>|t|)    \n",
       "(Intercept)            46.5702     0.5283  88.159  < 2e-16 ***\n",
       "douglas$RootVolumeRV2   6.2089     0.5787  10.730 1.85e-14 ***\n",
       "douglas$RootVolumeRV3   8.9406     0.5787  15.450  < 2e-16 ***\n",
       "douglas$SeedLotB349     3.3150     0.5787   5.729 6.11e-07 ***\n",
       "douglas$SeedLotJ052     1.2944     0.5787   2.237   0.0299 *  \n",
       "---\n",
       "Signif. codes:  0 ‘***’ 0.001 ‘**’ 0.01 ‘*’ 0.05 ‘.’ 0.1 ‘ ’ 1\n",
       "\n",
       "Residual standard error: 1.736 on 49 degrees of freedom\n",
       "Multiple R-squared:  0.8529,\tAdjusted R-squared:  0.8409 \n",
       "F-statistic: 71.02 on 4 and 49 DF,  p-value: < 2.2e-16\n"
      ]
     },
     "metadata": {},
     "output_type": "display_data"
    }
   ],
   "source": [
    "summary(model2)"
   ]
  },
  {
   "cell_type": "markdown",
   "metadata": {},
   "source": [
    "<b>g)</b>Is it possible to estimate, from this model, an overall difference between the heights of large and medium seedlings?"
   ]
  },
  {
   "cell_type": "markdown",
   "metadata": {},
   "source": [
    "Here it is possible as we don't have interactions (additive model), parameters are available in the model."
   ]
  },
  {
   "cell_type": "markdown",
   "metadata": {},
   "source": [
    "## Problem 5"
   ]
  },
  {
   "cell_type": "markdown",
   "metadata": {},
   "source": [
    "You wish to perform a study to determine if $3$ treatments each produce no effect using a completely randomised design. To do this, you will test the hypothesis $H_0 : \\mu+\\tau_1 = \\tau_1 −\\tau_2 = \\tau_2 −\\tau_3 = 0$. You are given resources to study 50 sample units.\n"
   ]
  },
  {
   "cell_type": "markdown",
   "metadata": {},
   "source": [
    "<b>a)</b>Determine the optimal allocation of the number of units to assign to each treatment.\n"
   ]
  },
  {
   "cell_type": "markdown",
   "metadata": {},
   "source": [
    "<img src='res/q5-b.jpg' width=50%, height=50%>"
   ]
  },
  {
   "cell_type": "markdown",
   "metadata": {},
   "source": [
    "<b>b)</b>Perform the random allocation. You must use R for randomisation and include your R commands and output."
   ]
  },
  {
   "cell_type": "code",
   "execution_count": 32,
   "metadata": {},
   "outputs": [
    {
     "name": "stdout",
     "output_type": "stream",
     "text": [
      " [1] 30 32  1 10 35 48  7 50 40 38  4 34 21 25 39\n",
      " [1] 43  6 19  5 28 45 33 31 18 13 17 42 46 37  9 29  8 27 11 24\n",
      " [1]  2 41 12 49 22 23 20 15 44 36 47 14 26  3 16\n"
     ]
    }
   ],
   "source": [
    "n= c(15,20,15)\n",
    "nsum =sum(n)\n",
    "x= sample(nsum, nsum) \n",
    "j1=x[1:n[1]]\n",
    "j2= x[(n[1]+1):(n[1]+n[2])]\n",
    "j3=x[(n[1]+n[2]+1):nsum]\n",
    "print(j1)\n",
    "print(j2)\n",
    "print(j3)"
   ]
  },
  {
   "cell_type": "code",
   "execution_count": 33,
   "metadata": {},
   "outputs": [
    {
     "data": {
      "text/html": [
       "50"
      ],
      "text/latex": [
       "50"
      ],
      "text/markdown": [
       "50"
      ],
      "text/plain": [
       "[1] 50"
      ]
     },
     "metadata": {},
     "output_type": "display_data"
    }
   ],
   "source": [
    "length(j1)+length(j2)+length(j3)"
   ]
  },
  {
   "cell_type": "code",
   "execution_count": null,
   "metadata": {},
   "outputs": [],
   "source": []
  }
 ],
 "metadata": {
  "kernelspec": {
   "display_name": "R",
   "language": "R",
   "name": "ir"
  },
  "language_info": {
   "codemirror_mode": "r",
   "file_extension": ".r",
   "mimetype": "text/x-r-source",
   "name": "R",
   "pygments_lexer": "r",
   "version": "3.5.1"
  }
 },
 "nbformat": 4,
 "nbformat_minor": 2
}
