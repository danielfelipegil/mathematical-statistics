{
 "cells": [
  {
   "cell_type": "markdown",
   "metadata": {},
   "source": [
    "<h3>Problem 1</h3>"
   ]
  },
  {
   "cell_type": "markdown",
   "metadata": {},
   "source": [
    "We observe $X_1, . . . , X_n$ and $Y_1, . . . , Y_n$ all mutually independent, where $Y_i \\sim Poisson(\\beta\\tau_i)$ and $X_i \\sim Poisson(\\tau_i)$. Here the random variable Yi describes the number of occurrences of a disease in suburb $i$. The unknown parameter $\\beta$ is a multiplicative factor for the mean occurrences of the disease of interest relative to the general health in the suburb, as measured by the mean of the number of cases of another disease. Although we do not observe $\\tau_i$ directly, information on it comes through the number $X_i$ that measures the number of cases of the other disease."
   ]
  },
  {
   "cell_type": "markdown",
   "metadata": {},
   "source": [
    "<b>a)</b>What is the joint pmf for the sample $\\{(X_1, Y_1), . . . , (X_n, Y_n)\\}$."
   ]
  },
  {
   "cell_type": "markdown",
   "metadata": {},
   "source": [
    "Let $f(x_i,y_i;\\beta,\\tau)$ be the joint probability for $X_i$ and $Y_i$ and the parameters.<br/> Having X and Y independent, then <br/>\n",
    "$P(X=x_i,Y=y_i)=\\frac{(\\beta \\tau_i)^y_i e^{-\\beta \\tau_i}}{y_i!} \\times \\frac{\\tau_i^{x_i} e^{-\\tau_i}}{x_i!}$<br/>\n",
    "\n"
   ]
  },
  {
   "cell_type": "markdown",
   "metadata": {},
   "source": [
    "<b>b)</b>Find the maximum likelihood estimators for $\\beta$ and $\\tau_i,\\ i = 1, . . . , n.$"
   ]
  },
  {
   "cell_type": "markdown",
   "metadata": {},
   "source": [
    "Let's define the joint probability\n",
    "$f(x_i,y_i;\\beta,\\tau_i) = \\prod_{i}^{n} \\frac{(\\beta \\tau_i)^y_i e^{-\\beta \\tau_i}}{y_i!} \\times \\frac{\\tau_i^{x_i} e^{-\\tau_i}}{x_i!}$<br/>\n",
    "\n",
    "$f(x_i,y_i;\\beta,\\tau_i) =\\frac{\\beta^{\\sum{y_i}} \\sum{\\tau_i^{y_i}} e^{-\\beta \\sum{\\tau_i}} \\sum{\\tau_i^{x_i}} e^{-\\sum_i{\\tau_i}}} {y_i!x_i!}$<br/>\n",
    "\n",
    "Let $s(\\beta,\\tau_i)=Log(f((x_i,y_i;\\beta,\\tau_i))$, then <br/>\n",
    "$s(\\beta,\\tau_i) = \\sum{y_i}Ln(\\beta) + \\sum{y_i}Ln(\\sum{\\tau_i}) -\\beta \\sum{\\tau_i} + \\sum{x_i}Ln(\\sum{\\tau_i}) - \\sum_i{\\tau_i} - \\sum{y_i!x_i!} $\n",
    "\n",
    "$\\frac{\\partial s(\\beta,\\tau)}{\\partial \\beta} = \\frac{\\sum{y_i}}{\\beta} - \\sum{\\tau_i} = 0 $ <br/>\n",
    "Then, $\\beta=\\frac{\\sum{y_i}}{\\sum{\\tau_i}}$<br/>\n",
    "Since the second derivative $\\frac{\\partial^2 s(\\beta,\\tau)}{\\partial \\beta^2} = -\\frac{\\sum{y_i}}{\\beta^2} < 0$, then we found the maximum:<br/>\n",
    "$\\hat{\\beta}=\\frac{\\sum{y_i}}{\\sum{\\hat{\\tau_i}}}$<br/>\n",
    "\n",
    "Now, to find $\\tau_i$. First, let's write the log function for $\\tau_i$ when $i=1$<br/>\n",
    "$s(\\beta,\\tau_1) = y_1Ln(\\beta) + y_1Ln(\\tau_1) -\\beta \\tau_1 + x_1Ln(\\tau_1) - \\tau_1 - y_1!x_1! $<br/>\n",
    "\n",
    "Then, the partial derivative with respect to $\\tau_1$:<br/>\n",
    "$\\frac{\\partial s(\\beta,\\tau_1)}{\\partial \\tau_1} = \\frac{y_1+x_1}{\\tau_1} - \\beta -1 = 0 $<br/>\n",
    "Then, $\\tau_1=\\frac{y_1+x_1}{\\beta+1}$<br/>\n",
    "Since the second derivative $\\frac{\\partial^2 s(\\beta,\\tau)}{\\partial \\tau_1^2} = -\\frac{y_1+x_1}{\\tau_1^2} <0$ (denominator positive and numerator is # of occurences -always greater or equal than 0), then we found the maximum:<br/>\n",
    "$\\hat{\\tau_1}=\\frac{y_1+x_1}{\\hat{\\beta}+1}$\n",
    "\n",
    "Creating equations for i=2,3..n. We can generalize that:\n",
    "$\\hat{\\beta}=\\frac{\\sum{y_i}}{\\sum{x_i}}$<br/>\n",
    "and,\n",
    "$\\hat{\\tau_i}=\\frac{y_i+x_i}{\\hat{\\beta}+1}$ for $i=1...n$\n",
    "<br/> \n"
   ]
  },
  {
   "cell_type": "markdown",
   "metadata": {},
   "source": [
    "<b>c)</b>Use the following data to find estimates of $\\beta$ and $\\tau_i,\\ i = 1,...,n.$"
   ]
  },
  {
   "cell_type": "markdown",
   "metadata": {},
   "source": [
    "x: 0  0  3  1  7  6 11  7 12 14 <br/>\n",
    "y: 1 10  5  8 10 16  8 12 24 21 <br/>"
   ]
  },
  {
   "cell_type": "markdown",
   "metadata": {},
   "source": [
    "From b) we got that:<br/>\n",
    "$\\hat{\\beta}=\\frac{\\sum{y_i}}{\\sum{x_i}} \\ [1]$<br/>and $\\hat{\\tau_i}=\\frac{y_i+x_i}{\\hat{\\beta}+1} \\ [2]$\n",
    "<br/>\n",
    "Using the values in the table for $x$ and $y$ for $\\tau_i$:<br/>\n",
    "in [1]\n",
    "<br/>\n",
    "$\\hat{\\beta}=\\frac{\\sum{y_i}}{\\sum{x_i}}=1.885246$\n",
    "<br/>\n",
    "For each $\\tau_i,\\ i=1... n$\n"
   ]
  },
  {
   "cell_type": "code",
   "execution_count": 1,
   "metadata": {},
   "outputs": [
    {
     "data": {
      "text/html": [
       "'beta=1.885246'"
      ],
      "text/latex": [
       "'beta=1.885246'"
      ],
      "text/markdown": [
       "'beta=1.885246'"
      ],
      "text/plain": [
       "[1] \"beta=1.885246\""
      ]
     },
     "metadata": {},
     "output_type": "display_data"
    },
    {
     "name": "stdout",
     "output_type": "stream",
     "text": [
      "[1] \"The values of tau are:\"\n"
     ]
    },
    {
     "data": {
      "text/html": [
       "<ol class=list-inline>\n",
       "\t<li>0.346590909090909</li>\n",
       "\t<li>3.46590909090909</li>\n",
       "\t<li>2.77272727272727</li>\n",
       "\t<li>3.11931818181818</li>\n",
       "\t<li>5.89204545454545</li>\n",
       "\t<li>7.625</li>\n",
       "\t<li>6.58522727272727</li>\n",
       "\t<li>6.58522727272727</li>\n",
       "\t<li>12.4772727272727</li>\n",
       "\t<li>12.1306818181818</li>\n",
       "</ol>\n"
      ],
      "text/latex": [
       "\\begin{enumerate*}\n",
       "\\item 0.346590909090909\n",
       "\\item 3.46590909090909\n",
       "\\item 2.77272727272727\n",
       "\\item 3.11931818181818\n",
       "\\item 5.89204545454545\n",
       "\\item 7.625\n",
       "\\item 6.58522727272727\n",
       "\\item 6.58522727272727\n",
       "\\item 12.4772727272727\n",
       "\\item 12.1306818181818\n",
       "\\end{enumerate*}\n"
      ],
      "text/markdown": [
       "1. 0.346590909090909\n",
       "2. 3.46590909090909\n",
       "3. 2.77272727272727\n",
       "4. 3.11931818181818\n",
       "5. 5.89204545454545\n",
       "6. 7.625\n",
       "7. 6.58522727272727\n",
       "8. 6.58522727272727\n",
       "9. 12.4772727272727\n",
       "10. 12.1306818181818\n",
       "\n",
       "\n"
      ],
      "text/plain": [
       " [1]  0.3465909  3.4659091  2.7727273  3.1193182  5.8920455  7.6250000\n",
       " [7]  6.5852273  6.5852273 12.4772727 12.1306818"
      ]
     },
     "metadata": {},
     "output_type": "display_data"
    }
   ],
   "source": [
    "x=c(0,0,3,1,7,6,11,7,12,14)\n",
    "y=c(1,10,5,8,10,16,8,12,24,21)\n",
    "\n",
    "beta=sum(y)/sum(x)\n",
    "sprintf(\"beta=%f\",beta)\n",
    "tau_i=c()\n",
    "for (i in 1:length(x)){\n",
    "    tau_i=c(tau_i,(x[i]+y[i])/(beta+1))\n",
    "}\n",
    "print('The values of tau are:')\n",
    "tau_i"
   ]
  },
  {
   "cell_type": "markdown",
   "metadata": {},
   "source": [
    "<h3>Problem 2</h3>"
   ]
  },
  {
   "cell_type": "markdown",
   "metadata": {},
   "source": [
    "Let $X_1, . . . , X_n$ be a random sample from the inverse normal pdf $IG(\\mu, \\lambda)$ with density\n",
    "<br/>\n",
    "$f(x;\\mu,\\lambda)= (\\frac{\\lambda}{2 \\pi x^3})^{1/2}exp\\{-\\lambda(x-\\mu)^2/(2\\mu^2x)\\},\\ x>0$"
   ]
  },
  {
   "cell_type": "markdown",
   "metadata": {},
   "source": [
    "<b>a)</b> Show that the MLE of $\\mu$ and $\\lambda$ are $\\hat{\\mu}=\\bar{x}$ and $\\hat{\\lambda}=\\frac{n}{\\sum_i(X_i^{-1}-\\bar{X}^{-1})}$ "
   ]
  },
  {
   "cell_type": "markdown",
   "metadata": {},
   "source": [
    "Given that $f(X_1 =x_1,...,X_n =x_n;\\lambda, \\mu)= \\prod_i^n(\\frac{\\lambda}{2 \\pi x^3})^{1/2}exp\\{-\\lambda(x-\\mu)^2/(2\\mu^2x)\\}$<br/>\n",
    "\n",
    "Then,<br/>\n"
   ]
  },
  {
   "cell_type": "markdown",
   "metadata": {},
   "source": [
    "$f(X_1 =x_1,...,X_n =x_n;\\lambda, \\mu)= (\\frac{\\lambda}{2 \\pi x^3})^{n/2}exp\\{\\frac{-\\lambda}{2\\mu^2}\\sum_i((x_i-\\mu)^2/x_i)\\}$\n",
    "<br/>"
   ]
  },
  {
   "cell_type": "markdown",
   "metadata": {},
   "source": [
    "Taking the log function, $s(\\lambda,\\mu)=log(f(X_1 =x_1,...,X_n =x_n; \\lambda, \\mu))$:<br/>"
   ]
  },
  {
   "cell_type": "markdown",
   "metadata": {},
   "source": [
    "$s(\\lambda,\\mu) = \\frac{n}{2}Ln \\lambda - \\frac{n}{2}Ln(2\\pi x^3)- \\{\\frac{\\lambda}{2\\mu^2}\\sum_i((x_i-\\mu)^2/x_i)\\}$\n",
    "<br/>"
   ]
  },
  {
   "cell_type": "markdown",
   "metadata": {},
   "source": [
    "$s(\\lambda,\\mu) = \\frac{n}{2}Ln \\lambda - \\frac{n}{2}Ln(2\\pi x^3)- \\{\\frac{\\lambda}{2\\mu^2}\\sum_i((x_i^2-2x_i\\mu+\\mu^2)/x_i)\\}$\n",
    "<br/>"
   ]
  },
  {
   "cell_type": "markdown",
   "metadata": {},
   "source": [
    "$s(\\lambda,\\mu) = \\frac{n}{2}Ln \\lambda - \\frac{n}{2}Ln(2\\pi x^3)- \\{\\frac{\\lambda}{2}\\sum_i((x_i^2-2x_i\\mu+\\mu^2)/\\mu^2x_i)\\}$\n",
    "<br/>"
   ]
  },
  {
   "cell_type": "markdown",
   "metadata": {},
   "source": [
    "Using the sum for individual terms:"
   ]
  },
  {
   "cell_type": "markdown",
   "metadata": {},
   "source": [
    "$s(\\lambda,\\mu) = \\frac{n}{2}Ln \\lambda - \\frac{n}{2}Ln(2\\pi x^3)- \\frac{\\lambda}{2}\\{\\frac{\\sum_i{x_i}}{\\mu^2}-\\frac{2n}{\\mu}+\\frac{n}{\\sum x_i}\\}$ <b>[1]</b>\n",
    "\n",
    "<br/>"
   ]
  },
  {
   "cell_type": "markdown",
   "metadata": {},
   "source": [
    "Taking partial derivative to find $\\mu$"
   ]
  },
  {
   "cell_type": "markdown",
   "metadata": {},
   "source": [
    "$\\frac{\\partial s(\\lambda,\\mu)}{\\partial \\mu} =  - \\frac{\\lambda}{2}\\{\\frac{(-2)\\sum_i{x_i^2}}{\\mu^3})+\\frac{2n}{\\mu^2}\\}$\n",
    "<br/>"
   ]
  },
  {
   "cell_type": "markdown",
   "metadata": {},
   "source": [
    "$\\frac{\\partial s(\\lambda,\\mu)}{\\partial \\mu} = \\frac{\\lambda \\sum_i{x_i}}{\\mu^3}-\\frac{\\lambda n}{\\mu^2}$"
   ]
  },
  {
   "cell_type": "markdown",
   "metadata": {},
   "source": [
    "Equating for 0:"
   ]
  },
  {
   "cell_type": "markdown",
   "metadata": {},
   "source": [
    "$\\frac{\\lambda \\sum_i{x_i}}{\\mu^3}=\\frac{\\lambda n}{\\mu^2}$ And solving for $\\mu$ <br/>"
   ]
  },
  {
   "cell_type": "markdown",
   "metadata": {},
   "source": [
    "$\\mu=\\frac{\\sum x_i}{n} = \\bar{x}$ as required.<br/> Given that the second derivative $\\frac{\\partial^2 s(\\lambda,\\mu)}{\\partial \\mu^2}= -3\\frac{\\lambda \\sum_i{x_i}}{\\mu^4}+2\\frac{\\lambda n}{\\mu^3}$ . Assuming is always negative we can conclude:<br/>\n",
    "$\\hat{\\mu} = \\bar{x}$"
   ]
  },
  {
   "cell_type": "markdown",
   "metadata": {},
   "source": [
    "To find lambda, let's take the partial derivative from [1]"
   ]
  },
  {
   "cell_type": "markdown",
   "metadata": {},
   "source": [
    "$\\frac{\\partial s(\\lambda,\\mu)}{\\partial \\lambda} = \\frac{n}{2\\lambda} -\\frac{1}{2}\\{\\frac{\\sum_i{x_i}}{\\mu^2}-\\frac{2n}{\\mu}+\\frac{n}{\\sum x_i}\\}$"
   ]
  },
  {
   "cell_type": "markdown",
   "metadata": {},
   "source": [
    "Equating for 0:"
   ]
  },
  {
   "cell_type": "markdown",
   "metadata": {},
   "source": [
    "$\\frac{n}{2\\lambda}=\\frac{1}{2}\\{\\frac{\\sum_i{x_i}}{\\mu^2}-\\frac{2n}{\\mu}+\\frac{n}{\\sum x_i}\\}$, then"
   ]
  },
  {
   "cell_type": "markdown",
   "metadata": {},
   "source": [
    "$\\frac{n}{\\frac{\\sum_i{x_i}}{\\mu^2}-\\frac{2n}{\\mu}+\\frac{n}{\\sum x_i}}=\\lambda$ <b>[2]</b><br/>\n",
    "$\\lambda=\\frac{n}{\\frac{\\sum(x_i)}{\\mu^2}-\\frac{2n}{\\mu}+\\bar{x^{-1}}}$<br/>\n",
    "$\\lambda=\\frac{n}{\\frac{\\sum(x_i)}{(\\sum{x_i}/n)^2}-\\frac{2n}{(\\sum{x_i}/n)}+\\bar{x^{-1}}}$<br/>"
   ]
  },
  {
   "cell_type": "markdown",
   "metadata": {},
   "source": [
    "Replacing $\\frac{\\sum x_i}{n} = \\bar{x}=\\mu$, and simplifying in the denominator, then:\n",
    "$\\lambda=\\frac{n}{\\sum(x_i^-1 - \\bar{x}^-1)} $ as required.\n",
    "<br/>\n",
    "Moreover,  we can take $\\frac{\\partial^2 s(\\lambda,\\mu)}{\\partial \\lambda^2}=-\\frac{n}{2\\lambda^2} $, which is always negative, as a result we can conclude $\\hat{\\lambda}=\\frac{n}{\\sum(x_i^-1 - \\bar{x}^-1)}$"
   ]
  },
  {
   "cell_type": "markdown",
   "metadata": {},
   "source": [
    "<b>b)</b>Schwartz and Samanta (1991) proved that $\\frac{n\\lambda}{\\hat{\\lambda}} \\sim \\chi_{(n − 1)}^2$ . Use these result to derive a $(1 − α)100\\%$ confidence intervals for $\\lambda$."
   ]
  },
  {
   "cell_type": "markdown",
   "metadata": {},
   "source": [
    "The confidence interval for the r.v. would be between the values a and b<br/>\n",
    "$P[a \\lt \\frac{n\\lambda}{\\hat{\\lambda}} \\lt b] = 1-\\alpha$ <br/>\n",
    "where $a=\\chi_{1-\\alpha/2}^2 \\ and \\ b=\\chi_{\\alpha/2}^2$ <br/>\n",
    "$P[\\chi_{1-\\alpha/2}^2 \\lt \\frac{n\\lambda}{\\hat{\\lambda}} \\lt \\chi_{\\alpha/2}^2] = 1-\\alpha$ <br/>\n",
    "$P[\\frac{\\hat{\\lambda} \\chi_{1-\\alpha/2}^2}{n} \\lt \\lambda \\lt \\frac{\\hat{\\lambda} \\chi_{\\alpha/2}^2}{n}] = 1-\\alpha$ <br/>"
   ]
  },
  {
   "cell_type": "markdown",
   "metadata": {},
   "source": [
    "<b>c)</b>Kumagai and Matsunaga (1995) gave the following dataset of cholorbenzene ex- posure concentrations in ppm (15 min weighted time average) for a worker in a particular industry:\n",
    "\n",
    "    13.7, 10.2,  9.9, 4.3, 5.6, 45.6, 42.0,  14.1,  3.8,  9.3,\n",
    "    10.6, 91.3, 91.3, 2.2, 3.8,  6.0, 17.8, 131.8, 31.0,  4.2,\n",
    "    2.6, 27.6,  1.7, 7.0, 2.1,  1.5,  7.5,   2.5,  2.4, 51.9,\n",
    "    12.9, 12.3"
   ]
  },
  {
   "cell_type": "markdown",
   "metadata": {},
   "source": [
    "<b>i. </b>Compute the maximum likelihood estimate for $\\lambda$ and give a $95\\%$ confidence interval."
   ]
  },
  {
   "cell_type": "markdown",
   "metadata": {},
   "source": [
    "from <b>b)</b> we have:<br/>\n",
    "$P(\\chi_{1-\\alpha/2}^2 \\lt \\frac{n\\lambda}{\\hat{\\lambda}}\\lt \\chi_{\\alpha/2}^2)=1-\\alpha$<br/>\n",
    "Replacing the values <br/>\n",
    "$P(\\frac{\\chi_{1-\\alpha/2}^2 \\hat{\\lambda}}{n} \\lt \\lambda \\lt \\frac{\\chi_{\\alpha/2}^2\\hat{\\lambda}}{n})=0.95$<br/>"
   ]
  },
  {
   "cell_type": "code",
   "execution_count": 2,
   "metadata": {},
   "outputs": [
    {
     "data": {
      "text/html": [
       "'The parameter Lambda will be between 3.965024 and 10.903897 with 95 percent of confidence'"
      ],
      "text/latex": [
       "'The parameter Lambda will be between 3.965024 and 10.903897 with 95 percent of confidence'"
      ],
      "text/markdown": [
       "'The parameter Lambda will be between 3.965024 and 10.903897 with 95 percent of confidence'"
      ],
      "text/plain": [
       "[1] \"The parameter Lambda will be between 3.965024 and 10.903897 with 95 percent of confidence\""
      ]
     },
     "metadata": {},
     "output_type": "display_data"
    }
   ],
   "source": [
    "ds=c(13.7, 10.2,  9.9, 4.3, 5.6, 45.6, 42.0,  14.1,  3.8,  9.3,10.6, 91.3, 91.3, 2.2, 3.8,  6.0, 17.8, 131.8, 31.0,  4.2,2.6, 27.6,  1.7, 7.0, 2.1,  1.5,  7.5,   2.5,  2.4, 51.9,12.9, 12.3)\n",
    "n=length(ds)\n",
    "x.bar=mean(ds)\n",
    "# calculate the denominator\n",
    "sum=0\n",
    "for (i in 1:length(ds)){\n",
    "    sum=sum+(1/ds[i]-1/x.bar)\n",
    "\n",
    "}\n",
    "lambda.hat=n/sum\n",
    "alpha=0.05\n",
    "dof=n-1\n",
    "chi_left=qchisq(1-alpha/2,df=n-1, lower.tail=FALSE)\n",
    "chi_right=qchisq(alpha/2,df=n-1, lower.tail=FALSE)\n",
    "sprintf('The parameter Lambda will be between %f and %f with 95 percent of confidence',chi_left*lambda.hat/n,chi_right*lambda.hat/n)"
   ]
  },
  {
   "cell_type": "markdown",
   "metadata": {},
   "source": [
    "<b>ii.</b> From the data above, construct a $QQ$ plot comparing quantiles of the fitted Inverse Gaussian distribution $IG(\\hat{\\mu},\\hat{\\lambda})$ with the empirical quantiles. Is the inverse normal model appropriate for these data?"
   ]
  },
  {
   "cell_type": "code",
   "execution_count": 3,
   "metadata": {},
   "outputs": [
    {
     "name": "stderr",
     "output_type": "stream",
     "text": [
      "Updating HTML index of packages in '.Library'\n",
      "Making 'packages.html' ... done\n"
     ]
    },
    {
     "data": {
      "image/png": "[encoded data removed]",
      "text/plain": [
       "plot without title"
      ]
     },
     "metadata": {},
     "output_type": "display_data",
     "source": "R display func"
    }
   ],
   "source": [
    "install.packages(\"statmod\")\n",
    "library(statmod)\n",
    "\n",
    "tq=qinvgauss(ppoints(n),mean=x.bar,lambda.hat) \n",
    "qqplot(tq,ds, xlab = 'Theoretical Qantiles',ylab = 'Dataset Quantiles')\n",
    "qqline(ds,distribution=function(ds)qinvgauss(ds,mean=x.bar,shape=lambda.hat),probs=c(0.25,0.75))"
   ]
  },
  {
   "cell_type": "markdown",
   "metadata": {},
   "source": [
    "For some values the distribution is a good approximation, however, we have some outliers data points that are not adjusted to the theoretical distribution. The inverse gaussian is appropiate but we need to take care and analyize the outliers. "
   ]
  },
  {
   "cell_type": "markdown",
   "metadata": {},
   "source": [
    "<h3> Problem 3 </h3>"
   ]
  },
  {
   "cell_type": "markdown",
   "metadata": {},
   "source": [
    "Let $X_1,..,X_n$ be independent and identically distributed random variables from $Bin(k,p)$. We assume that both $k$ and $p$ are unknown and we want to find point estimators for both parameters. For example this model can be used to estimate crime rates for crimes that are known to have many unreported occurrences (for such crimes both true reporting rate, $p$, and total number of occurrences, $k$, are unknown)."
   ]
  },
  {
   "cell_type": "markdown",
   "metadata": {},
   "source": [
    "<b>a)</b>Show that the method of moments (MoM) estimators for $k$ and $p$ are"
   ]
  },
  {
   "cell_type": "markdown",
   "metadata": {},
   "source": [
    "$\\tilde{k}=\\frac{\\bar{x}^2}{\\bar{x}-(1/n) \\sum_i{(X_i - \\bar{x})^2}}$ and $\\tilde{p}=\\frac{\\bar{X}}{\\tilde{k}}$<br/>"
   ]
  },
  {
   "cell_type": "markdown",
   "metadata": {},
   "source": [
    "For a random sample of size $n$, the first moment of the binomial distribution $E(X)$ is approx by <br/>\n",
    "$\\frac{\\sum{x_i}}{n}=\\mu=np$ [1]<br/> \n",
    "and the estimate of for the sample variance is $E[(X-E(X))^2]$<br/>\n",
    "$V=\\frac{\\sum_i^n{(x_i - \\mu)^2}}{n}=np(1-p)$, [2], taken a random sample $n$ and $V$ is a biased estimator of $\\sigma^2$:<br/>"
   ]
  },
  {
   "cell_type": "markdown",
   "metadata": {},
   "source": [
    "Using [1] for parameters $k$ and $p$ <br/>\n",
    "$\\frac{\\sum{X_i}}{n}=\\tilde{k}\\tilde{p}=\\bar{X}$ <br/>\n",
    "$\\tilde{p}=\\frac{\\bar{X}}{\\tilde{k}}$<b> as required.</b>"
   ]
  },
  {
   "cell_type": "markdown",
   "metadata": {},
   "source": [
    "Using [1]:<br/>\n",
    "$\\tilde{k}\\tilde{p}(1-{p})=V$, and from $\\tilde{p}$ we know that $\\tilde{k}\\tilde{p}=\\bar{X}$, then<br/>\n",
    "$\\bar{X}(1-\\tilde{p})=V$<br/>\n",
    "$\\tilde{p}=1-\\frac{V}{\\bar{X}}$, using $\\tilde{p}=\\frac{\\bar{X}}{\\tilde{k}}$<br/>\n",
    "$\\frac{\\bar{X}}{\\tilde{k}}=\\frac{\\bar{X}-V}{\\bar{X}}$, then<br/>\n",
    "$\\tilde{k}=\\frac{\\bar{X}}{\\bar{X}-V}$, and using the value of $V$ from [2] we have:<br/>\n",
    "$\\tilde{k}=\\frac{\\bar{X}^2}{\\bar{X}-1/n\\sum{(X_i-\\bar{X})^2}}$ <b>as required.</b>\n"
   ]
  },
  {
   "cell_type": "markdown",
   "metadata": {},
   "source": [
    "<b>b)</b>From the above expressions, give a numerical example where the Method of Moments estimator fails to give a sensible answer."
   ]
  },
  {
   "cell_type": "code",
   "execution_count": 4,
   "metadata": {},
   "outputs": [],
   "source": [
    "n_trials=1000# number of trials\n",
    "p=0.25\n",
    "obs=2 # number of successes\n",
    "# using a random binomial here a vector of 15 observations\n",
    "x=rbinom(obs,n_trials,p)"
   ]
  },
  {
   "cell_type": "code",
   "execution_count": 5,
   "metadata": {},
   "outputs": [
    {
     "data": {
      "text/html": [
       "'x.bar: 237.500000'"
      ],
      "text/latex": [
       "'x.bar: 237.500000'"
      ],
      "text/markdown": [
       "'x.bar: 237.500000'"
      ],
      "text/plain": [
       "[1] \"x.bar: 237.500000\""
      ]
     },
     "metadata": {},
     "output_type": "display_data"
    },
    {
     "data": {
      "text/html": [
       "'x.var: 40.500000'"
      ],
      "text/latex": [
       "'x.var: 40.500000'"
      ],
      "text/markdown": [
       "'x.var: 40.500000'"
      ],
      "text/plain": [
       "[1] \"x.var: 40.500000\""
      ]
     },
     "metadata": {},
     "output_type": "display_data"
    }
   ],
   "source": [
    "# get the sample mean and sample variance\n",
    "x.mean=mean(x)\n",
    "x.var=var(x)\n",
    "sprintf('x.bar: %f',x.mean)\n",
    "sprintf('x.var: %f',x.var)"
   ]
  },
  {
   "cell_type": "code",
   "execution_count": 6,
   "metadata": {},
   "outputs": [
    {
     "data": {
      "text/html": [
       "'Parameter estimated k.tilde=237.540507 | sample n=1000'"
      ],
      "text/latex": [
       "'Parameter estimated k.tilde=237.540507 \\textbar{} sample n=1000'"
      ],
      "text/markdown": [
       "'Parameter estimated k.tilde=237.540507 | sample n=1000'"
      ],
      "text/plain": [
       "[1] \"Parameter estimated k.tilde=237.540507 | sample n=1000\""
      ]
     },
     "metadata": {},
     "output_type": "display_data"
    },
    {
     "data": {
      "text/html": [
       "'Parameter estimated p.tilde=0.999829 | p=0.250000'"
      ],
      "text/latex": [
       "'Parameter estimated p.tilde=0.999829 \\textbar{} p=0.250000'"
      ],
      "text/markdown": [
       "'Parameter estimated p.tilde=0.999829 | p=0.250000'"
      ],
      "text/plain": [
       "[1] \"Parameter estimated p.tilde=0.999829 | p=0.250000\""
      ]
     },
     "metadata": {},
     "output_type": "display_data"
    }
   ],
   "source": [
    "# calculate k\n",
    "sum=0\n",
    "for (i in 1:length(x)){\n",
    "    sum=sum+(x[i]-x.mean)^2\n",
    "}\n",
    "k.tilde=(x.mean^2)/(x.mean-(1/n_trials)*sum)\n",
    "sprintf('Parameter estimated k.tilde=%f | sample n=%i',k.tilde,n_trials)\n",
    "\n",
    "# calculate p\n",
    "p.tilde=x.mean/k.tilde\n",
    "sprintf('Parameter estimated p.tilde=%f | p=%f',p.tilde,p)\n"
   ]
  },
  {
   "cell_type": "markdown",
   "metadata": {},
   "source": [
    "$\\tilde{k}$ and $\\tilde{p}$ are sensible estimators if the values they take are tipcally close to the values of $n$ and $p$. For p low and large sample size we have significant difference, and the estimator fails to give a sensible answer."
   ]
  },
  {
   "cell_type": "markdown",
   "metadata": {},
   "source": [
    "Let's take another example, if for $\\hat{k}$ we have the mean $\\bar{x} < Var(x)$ then we will get negative values, which are not possible for the estimator, here the estimator given by the MoM fails to give a sensible answer:"
   ]
  },
  {
   "cell_type": "code",
   "execution_count": 7,
   "metadata": {},
   "outputs": [
    {
     "data": {
      "text/html": [
       "'Mean=5.000000 and variance=18.000000'"
      ],
      "text/latex": [
       "'Mean=5.000000 and variance=18.000000'"
      ],
      "text/markdown": [
       "'Mean=5.000000 and variance=18.000000'"
      ],
      "text/plain": [
       "[1] \"Mean=5.000000 and variance=18.000000\""
      ]
     },
     "metadata": {},
     "output_type": "display_data"
    },
    {
     "data": {
      "text/html": [
       "-4.76190476190476"
      ],
      "text/latex": [
       "-4.76190476190476"
      ],
      "text/markdown": [
       "-4.76190476190476"
      ],
      "text/plain": [
       "[1] -4.761905"
      ]
     },
     "metadata": {},
     "output_type": "display_data"
    }
   ],
   "source": [
    "a=c(1,10,2,7)\n",
    "a.mean=mean(a)\n",
    "a.var=var(a)\n",
    "sprintf('Mean=%f and variance=%f',a.mean,a.var)\n",
    "sum=0\n",
    "for (i in 1:length(x)){\n",
    "    sum=sum+(a[i]-a.mean)^2\n",
    "}\n",
    "k.tilde=(a.mean^2)/(a.mean-(1/length(a))*sum)\n",
    "k.tilde"
   ]
  },
  {
   "cell_type": "markdown",
   "metadata": {},
   "source": [
    "<h3>Problem 4</h3>"
   ]
  },
  {
   "cell_type": "markdown",
   "metadata": {},
   "source": [
    "Let $X_1, · · · , X_n$ be $n$ independent observations of the number of trials necessary to observe the $5^th$ success in Bernoulli trials for which the odds of success are $θ$, so that for each $i = 1,··· ,n$."
   ]
  },
  {
   "cell_type": "markdown",
   "metadata": {},
   "source": [
    "$P(X_i=x)=\\binom{x -1}{4}(\\frac{\\theta}{1+\\theta})^5(\\frac{1}{1+\\theta})^{x-5}$"
   ]
  },
  {
   "cell_type": "markdown",
   "metadata": {},
   "source": [
    "<b>a)</b>Find the maximum likelihood estimator of θ."
   ]
  },
  {
   "cell_type": "markdown",
   "metadata": {},
   "source": [
    "$f(x_i...xn; \\theta )=\\prod_{i=1}^n \\binom{x_i-1}{4} (\\frac{\\theta}{\\theta+1})^5(\\frac{1}{1+\\theta})^{x_i-5}$<br/>\n",
    "$f(x_i...xn; \\theta )=C+(\\frac{\\theta}{\\theta+1})^5n(\\frac{1}{1+\\theta})^{\\sum{x_i}-5n}$<br/>\n"
   ]
  },
  {
   "cell_type": "markdown",
   "metadata": {},
   "source": [
    "Taking the log function for $f$, $s(\\theta)=log(f(X_1 =x_1,...,X_n =x_n; \\theta))$:<br/>\n",
    "$s(\\theta)=C+5nLn(\\frac{\\theta}{\\theta+1})+(\\sum{x_i}+5n)Ln(\\frac{1}{1+\\theta})$<br/>\n",
    "$s(\\theta)=C+5n(Ln(\\theta)-Ln(1+\\theta))+(\\sum{x_i}-5n)(Ln(1)-Ln(1+\\theta)$<br/>\n",
    "Taking derivatives:<br/>\n",
    "\n",
    "$s'(\\theta)=\\frac{5n}{\\theta}-\\frac{5n}{1+\\theta}+\\frac{5n}{1+\\theta}-\\frac{\\sum{x_i}}{1+\\theta}=0$<br/>\n",
    "then,<br/>\n",
    "$\\theta=\\frac{5}{\\bar{x}-5}$\n",
    "\n",
    "Now, taking the second derivative:<br/>\n",
    "$s''(\\theta)=\\frac{-5n}{\\theta^2}+\\frac{\\sum{x_i}}{(1+\\theta)^2}=\\frac{\\sum{x_i}}{(1+\\theta)^2}-\\frac{5n}{\\theta^2}<0$ For $X_i = $number of trials to observe the $5^{th}$ success, $i=1..n$<br/>\n",
    "\n",
    "we can conclude,<br/>\n",
    "$\\hat{\\theta}=\\frac{5}{\\bar{x}-5}$"
   ]
  },
  {
   "cell_type": "markdown",
   "metadata": {},
   "source": [
    "<b>b)</b>What is the maximum likelihood estimate of $θ$ if $n = 1$, $x_1 = 5$ ?"
   ]
  },
  {
   "cell_type": "markdown",
   "metadata": {},
   "source": [
    "The MLE is not defined for $ n=1$ and $x_i=5$ using $\\hat{\\theta}=\\frac{5}{\\bar{x}-5}$ since $\\bar{x}=5$. "
   ]
  },
  {
   "cell_type": "markdown",
   "metadata": {},
   "source": [
    "<b>c)</b>Find the Fisher information for θ."
   ]
  },
  {
   "cell_type": "markdown",
   "metadata": {},
   "source": [
    "From b) <br/>\n",
    "$s'(\\theta)=\\frac{5n}{\\theta}-\\frac{5n}{1+\\theta}+\\frac{5n}{1+\\theta}-\\frac{\\sum{x_i}}{1+\\theta}$<br/>\n",
    "$s''(\\theta)=\\frac{\\sum{x_i}}{(1+\\theta)^2}-\\frac{5n}{\\theta^2}$\n",
    "\n",
    "Then,\n",
    "$I(\\theta)=-E(\\frac{\\partial^2 s(\\theta)}{\\partial \\theta^2}=-E(\\frac{\\sum{x_i}}{(1+\\theta)^2}-\\frac{5n}{\\theta^2})$, calculating the expectation:<br/>\n",
    "$I(\\theta)=\\frac{5n}{\\theta^2}-\\frac{E(\\sum{x_i})}{(1+\\theta)^2}$<br/>. Now, $E(\\sum{x_i})=E(x_i)+E(x_2)+...+E(x_n)$<br/>\n",
    "For a Negative Binomial distribution we have:\n",
    "$E(x)=\\frac{r}{p}=\\frac{5}{p}=5(\\frac{1+\\theta}{\\theta})$, then<br/>\n",
    "$I(\\theta)=\\frac{5n}{\\theta^2}-\\frac{5n}{(1+\\theta)^2} (\\frac{1+\\theta}{\\theta})$, simplifying:<br/>\n",
    "$I(\\theta)=\\frac{5}{\\theta^2+\\theta^3}$"
   ]
  },
  {
   "cell_type": "markdown",
   "metadata": {},
   "source": [
    "<b>d)</b> What is the Cramer-Rao lower bound for the variance of unbiased estimators of\n",
    "θ based on n observations."
   ]
  },
  {
   "cell_type": "markdown",
   "metadata": {},
   "source": [
    "Let $Y=\\mu(X_1,X_2...X_n)$<br/>\n",
    "Then the  Cramer-Rao lower bound for the variance would be:<br/>\n",
    "$Var(Y) \\geq \\frac{1}{nI(\\theta)}$.<br/> Using the fisher information found in <b>c)</b>, then\n",
    "$Var(Y) \\geq \\frac{\\theta^2+\\theta^3}{5n}$. For any unbiased estimator.<br/>"
   ]
  },
  {
   "cell_type": "markdown",
   "metadata": {},
   "source": [
    "<b>e)</b>Is the maximum likelihood estimator unbiased?"
   ]
  },
  {
   "cell_type": "markdown",
   "metadata": {},
   "source": [
    "The MLE is unbiased if the expected value is equal to the parameter is estimating. That means, the estimator should be defined for all data in our function $f(x_1...x_n;\\theta)$. In <b>b)</b> we observed that for $n=1$  and $x_1=5$ the estimator $\\hat{\\theta}$ is not defined, therefore we can say the expected value is not equal to the parameter is estimating, hence, the parameter is biased."
   ]
  },
  {
   "cell_type": "markdown",
   "metadata": {},
   "source": [
    "<b>f)</b>Find an approximate $90\\%$ confidence interval for $θ$ based on data $x_1, · · · x_n$."
   ]
  },
  {
   "cell_type": "markdown",
   "metadata": {},
   "source": [
    "Assuming $n$ is large, then the distribution of $\\hat{\\theta}$ is approximately normal, mean is the true parameter value $\\theta$ and variance is $\\frac{1}{nI(\\theta)}$<br/>\n",
    "\n",
    "$\\sqrt{nI(\\hat{\\theta})}(\\hat{\\theta}-\\theta) \\approx N(0,1)$, then<br/>\n",
    "$P(-\\zeta_{\\alpha/2} \\leq \\sqrt{nI(\\hat{\\theta)}}(\\hat{\\theta}-\\theta) \\leq \\zeta_{\\alpha/2})=1-\\alpha$<br/>\n",
    "$P(\\frac{-\\zeta_{\\alpha/2}}{\\sqrt{nI(\\hat{\\theta)}}} \\leq \\hat{\\theta}-\\theta \\leq \\frac{\\zeta_{\\alpha/2}}{\\sqrt{nI(\\hat{\\theta)}}})=0.90$ Using $(\\alpha=0.10)$<br/>\n",
    "$P(\\hat{\\theta} - \\frac{\\zeta_{\\alpha/2}}{\\sqrt{nI(\\hat{\\theta)}}} \\leq -\\theta \\leq \\hat{\\theta}+\\frac{\\zeta_{\\alpha/2}}{\\sqrt{nI(\\hat{\\theta)}}})=0.90$<br/>\n",
    "$P(\\hat{\\theta}+\\frac{\\zeta_{\\alpha/2}}{\\sqrt{nI(\\hat{\\theta)}}} \\leq \\theta \\leq \\hat{\\theta} - \\frac{\\zeta_{\\alpha/2}}{\\sqrt{nI(\\hat{\\theta)}}})=0.90$ Replacing values<br/>\n",
    "$P(\\hat{\\theta}-\\frac{1.6448}{\\sqrt{nI(\\hat{\\theta)}}} \\leq \\theta \\leq \\hat{\\theta} + \\frac{1.6448}{\\sqrt{nI(\\hat{\\theta)}}})=0.90$, Finally replacing $I(\\hat{\\theta})=\\frac{5}{\\theta^2+\\theta^3}$\n",
    "\n",
    "\n",
    "<br/>A $90\\%$ confidence interval for the MLE is $\\hat{\\theta}-+\\frac{\\hat{\\theta}\\times 1.6448 \\sqrt{1+\\hat{\\theta}}}{\\sqrt{5n}}$"
   ]
  },
  {
   "cell_type": "code",
   "execution_count": 8,
   "metadata": {},
   "outputs": [
    {
     "data": {
      "text/html": [
       "-1.64485362695147"
      ],
      "text/latex": [
       "-1.64485362695147"
      ],
      "text/markdown": [
       "-1.64485362695147"
      ],
      "text/plain": [
       "[1] -1.644854"
      ]
     },
     "metadata": {},
     "output_type": "display_data"
    }
   ],
   "source": [
    "qnorm(0.05, mean = 0, sd = 1, lower.tail = TRUE, log.p = FALSE)"
   ]
  },
  {
   "cell_type": "markdown",
   "metadata": {},
   "source": [
    "<h3>Problem 5</h3>"
   ]
  },
  {
   "cell_type": "markdown",
   "metadata": {},
   "source": [
    "Suppose that the probability that a machine produces defective items is unknown and modelled as uniform on $(0,1)$. Given the unknown probability, $\\Theta$, of defective items, the results of a random sample may be modelled as Bernoulli trials with probability $\\Theta$. A random sample produces 1 out of 5 as defective. What is the posterior distribution for $\\Theta$ given this data? What is the Bayes estimate? Give a 95% posterior probability interval for $\\Theta$."
   ]
  },
  {
   "cell_type": "markdown",
   "metadata": {},
   "source": [
    "Let $X$ be the number of defective items. $X \\approx bin(5,\\Theta)$. \n",
    "Posterior density is given, for $0 \\lt \\Theta \\lt 1$, by<br/>\n",
    "$k(\\theta|x=1)= \\frac{h(\\Theta)f(X|\\Theta)}{K(x)}$<br/>,\n",
    "Then $K(x)=\\int_{\\infty}^{\\infty}{P(x=1|u)h(u)du}$. Replacing for posterior density given data:<br/>\n",
    "And, $h(\\Theta)$ = 1 a Uniform distribution.\n",
    "<br/>\n",
    "$k(\\theta|x=1)= \\frac{1 \\times f(X|\\Theta)}{\\int_{\\infty}^{\\infty}{P(x=1|u)h(u)du}}$<br/>, \n",
    "Since we have 1 item defective, another 4 are not defective, then<br/>\n",
    "$k(\\theta|x=1)= \\frac{\\Theta^1(1-\\Theta)^4}{\\int_{0}^{1}{u(1-u)^4du}}$, here, the denominator can be written as a Beta Distribution $B(\\alpha=2,\\beta=5)$, then<br/>\n",
    "$k(\\theta|x=1)= \\frac{\\Theta^1(1-\\Theta)^4\\Gamma{(7)}}{\\Gamma{(2)}\\Gamma{(5)}}=\\frac{\\Theta(1-\\Theta)^46!}{4!}=30\\Theta(1-\\Theta)^4$, The posterior distribution given the data is:<br/>\n",
    "$k(\\theta|x=1)=30\\Theta(1-\\Theta)^4$"
   ]
  },
  {
   "cell_type": "markdown",
   "metadata": {},
   "source": [
    "To find the Bayes estimate we need to calculate $E(\\Theta)$, the mean of the posterior distribution using the conditional $k(\\Theta | x=1)$<br/>\n",
    "$E(\\Theta)=30\\int_{0}^{1}\\Theta^2(1-\\Theta)^4d\\Theta \\approx B(\\alpha=3,\\beta=5)$<br/>\n",
    "$E(\\Theta)=30\\frac{\\Gamma{(3)}\\Gamma{(5)}}{\\Gamma{(8)}}=\\frac{2}{7}$<br/>\n",
    "$E(\\hat{\\Theta})=\\frac{2}{7}$<br/>"
   ]
  },
  {
   "cell_type": "markdown",
   "metadata": {},
   "source": [
    "To get a probablity interval containing $95\\%$ probability, let's look at the plot of the PDF\n"
   ]
  },
  {
   "cell_type": "code",
   "execution_count": 9,
   "metadata": {},
   "outputs": [
    {
     "data": {
      "image/png": "[encoded data removed]",
      "text/plain": [
       "plot without title"
      ]
     },
     "metadata": {},
     "output_type": "display_data",
     "source": "R display func"
    }
   ],
   "source": [
    "x <- seq(from = 0, to =1, by = 0.01)\n",
    "y <- 30*dbeta(x, shape1 = 2, shape2 = 5)\n",
    "plot(x, y, type = \"l\", ylab = \"posterior pdf(x)\")"
   ]
  },
  {
   "cell_type": "markdown",
   "metadata": {},
   "source": [
    "Since the distribution is not simetrical, let's define the lower bound as $B_{\\alpha/2}$ and the upper bound to $B_{1-\\alpha/2}$, then<br/>\n",
    "$P(B_{0.025}<\\Theta<B_{0.975})=0.95$<br/>\n"
   ]
  },
  {
   "cell_type": "code",
   "execution_count": 14,
   "metadata": {},
   "outputs": [
    {
     "data": {
      "text/html": [
       "'The 95 percent confidence interval for Theta is between 0.043272 and 0.641235'"
      ],
      "text/latex": [
       "'The 95 percent confidence interval for Theta is between 0.043272 and 0.641235'"
      ],
      "text/markdown": [
       "'The 95 percent confidence interval for Theta is between 0.043272 and 0.641235'"
      ],
      "text/plain": [
       "[1] \"The 95 percent confidence interval for Theta is between 0.043272 and 0.641235\""
      ]
     },
     "metadata": {},
     "output_type": "display_data"
    }
   ],
   "source": [
    "theta.hat=2/7\n",
    "beta_left=qbeta(0.025,shape1=2,shape2=5)\n",
    "beta_right=qbeta(0.975,shape1=2,shape2=5)\n",
    "sprintf('The 95 percent confidence interval for Theta is between %f and %f',beta_left,beta_right )"
   ]
  },
  {
   "cell_type": "code",
   "execution_count": null,
   "metadata": {},
   "outputs": [],
   "source": []
  }
 ],
 "metadata": {
  "kernelspec": {
   "display_name": "R [conda env:anaconda]",
   "language": "R",
   "name": "conda-env-anaconda-r"
  },
  "language_info": {
   "codemirror_mode": "r",
   "file_extension": ".r",
   "mimetype": "text/x-r-source",
   "name": "R",
   "pygments_lexer": "r",
   "version": "3.5.1"
  }
 },
 "nbformat": 4,
 "nbformat_minor": 2
}
