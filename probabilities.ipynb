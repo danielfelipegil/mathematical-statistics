{
 "cells": [
  {
   "cell_type": "markdown",
   "metadata": {},
   "source": [
    "<i>\n",
    "Student Name: Daniel Gil<br/>\n",
    "Student ID: 905923\n",
    "</i>"
   ]
  },
  {
   "cell_type": "markdown",
   "metadata": {},
   "source": [
    "<h3>Problem 1</h3>"
   ]
  },
  {
   "cell_type": "markdown",
   "metadata": {},
   "source": [
    " Binary digits 0 and 1 are transmitted over a communication channel. If a 1 is sent, it will be received as a 1 with probability 0.95 and as a 0 with probability 0.05; if a 0 is sent, it will be received as a 0 with probability 0.99 and as a 1 with probability 0.01. If the probability that a 0 is sent is the same as the probability that a 1 is sent, what is"
   ]
  },
  {
   "cell_type": "markdown",
   "metadata": {},
   "source": [
    "Let A be the event a 1 is received<br/>\n",
    "Let B be the event a 1 is sent<br/>\n",
    "then<br/>\n",
    "A' is the event a 0 is received<br/>\n",
    "B' is the event a 0 is sent<br/>\n",
    "\n",
    "$P(A|B)=0.95$<br/>\n",
    "$P(A'|B)=0.05$<br/>\n",
    "$P(A'|B')=0.99$<br/>\n",
    "$P(A|B')=0.01$<br/>\n",
    "$P(B') = P(B) = 0.5$<br/>\n",
    "\n",
    "We can write the probabilities a matrix:\n",
    "<table>\n",
    "    <tr>\n",
    "        <th></th>\n",
    "        <th>B</th>\n",
    "        <th>B'</th>\n",
    "    </tr>\n",
    "    <tr>\n",
    "        <td>A</td>\n",
    "        <td>P(A|B)</td>\n",
    "        <td>P(A|B')</td>\n",
    "    </tr>\n",
    "    <tr>\n",
    "        <td>A'</td>\n",
    "        <td>P(A'|B)</td>\n",
    "        <td>P(A'|B')</td>\n",
    "    </tr>\n",
    "</table>\n"
   ]
  },
  {
   "cell_type": "markdown",
   "metadata": {},
   "source": [
    "<b>a) </b>the conditional probability that a 1 was sent given that a 1 was received?"
   ]
  },
  {
   "cell_type": "markdown",
   "metadata": {},
   "source": [
    "From Bayes Theorem:\n",
    "$P(B|A)=\\frac{P(A|B)\\times P(B)}{P(A)}$\n",
    "$P(B|A)=\\frac{0.95\\times 0.5}{P(A)}$\n",
    "\n",
    "to find P(A) we can use the probability matrix for row A:\n",
    "$P(A)=P(B)P(A|B)+P(B')P(A|B')$"
   ]
  },
  {
   "cell_type": "code",
   "execution_count": 1,
   "metadata": {},
   "outputs": [
    {
     "name": "stdout",
     "output_type": "stream",
     "text": [
      "[1] 0.9895833\n"
     ]
    }
   ],
   "source": [
    "p_a=0.5*0.95+0.5*0.01\n",
    "p_b_a=0.95*0.5/p_a\n",
    "print(p_b_a)"
   ]
  },
  {
   "cell_type": "markdown",
   "metadata": {},
   "source": [
    "<b>b)</b>the conditional probability that a 0 was sent given that a 0 was received?"
   ]
  },
  {
   "cell_type": "markdown",
   "metadata": {},
   "source": [
    "Using Bayes theorem we can write the question as follow:\n",
    "\n",
    "$P(B'|A')=\\frac{P(A'|B')\\times P(B')}{P(A')}$<br/>\n",
    "$P(B'|A')=\\frac{0.99\\times 0.5}{1-P(A)}$"
   ]
  },
  {
   "cell_type": "code",
   "execution_count": 2,
   "metadata": {},
   "outputs": [
    {
     "name": "stdout",
     "output_type": "stream",
     "text": [
      "[1] 0.9519231\n"
     ]
    }
   ],
   "source": [
    "p_bc_ac=0.99*0.5/(1-p_a)\n",
    "print(p_bc_ac)"
   ]
  },
  {
   "cell_type": "markdown",
   "metadata": {},
   "source": [
    "<h3>Problem 2. Birthday Paradox</h3>"
   ]
  },
  {
   "cell_type": "markdown",
   "metadata": {},
   "source": [
    "<b>a)</b> Consider a group of 3 students. Each student has a birthday that can be any one of the days numbered 1, 2, 3, ..., 365. What is the probability that none of them have the same birthday with each other?"
   ]
  },
  {
   "cell_type": "markdown",
   "metadata": {},
   "source": [
    "Let A be the event in which none of them have the same birthday\n",
    "$P(A)=\\frac{times\\ none\\ of\\ them\\ have\\ the\\ same\\ birthday}{total\\ of\\ possible\\ birthday\\ combinations}$\n"
   ]
  },
  {
   "cell_type": "markdown",
   "metadata": {},
   "source": [
    "$P(A)= \\frac{\\binom{365}{1}\\times\\binom{364}{1}\\times\\binom{363}{1}}{\\binom{365}{1}\\times\\binom{365}{1}\\times\\binom{365}{1}}$"
   ]
  },
  {
   "cell_type": "code",
   "execution_count": 3,
   "metadata": {},
   "outputs": [
    {
     "name": "stdout",
     "output_type": "stream",
     "text": [
      "[1] 0.9917958\n"
     ]
    }
   ],
   "source": [
    "a=(choose(365,1)*choose(364,1)*choose(363,1))/choose(365,1)^3\n",
    "print(a)"
   ]
  },
  {
   "cell_type": "markdown",
   "metadata": {},
   "source": [
    "<b>b)</b> Consider a group of 23 students. Each student has a birthday that can be any\n",
    "one of the days numbered 1, 2, 3, ..., 365.<br>\n",
    "<b>i.</b> What is the probability that none of them have the same birthday with each other?\n"
   ]
  },
  {
   "cell_type": "markdown",
   "metadata": {},
   "source": [
    "$P(A)= \\frac{\\binom{365}{1}\\times\\binom{364}{1}\\times\\binom{363}{1}...\\times\\binom{363-23+1}{1}}{[\\binom{365}{1}]^{23}}$"
   ]
  },
  {
   "cell_type": "code",
   "execution_count": 4,
   "metadata": {},
   "outputs": [
    {
     "name": "stdout",
     "output_type": "stream",
     "text": [
      "[1] 0.4927028\n"
     ]
    }
   ],
   "source": [
    "days=365\n",
    "n=23\n",
    "ways_bday=1\n",
    "for (i in days:(days-n+1)){\n",
    "      ways_bday=ways_bday*choose(i,1)\n",
    "}\n",
    "ways_totals=choose(365,1)^n\n",
    "p_a=ways_bday/ways_totals\n",
    "print(p_a)"
   ]
  },
  {
   "cell_type": "markdown",
   "metadata": {},
   "source": [
    "<b>ii.</b> What is the probability that some of them have the same birthday with each other? Is this probability greater than 0.5?"
   ]
  },
  {
   "cell_type": "markdown",
   "metadata": {},
   "source": [
    "P(A')= Probability that some of them have the same birthday with each other<br/>\n",
    "$P(A') = 1 - P(A)$<br/>\n",
    "$P(A') > 0.5$"
   ]
  },
  {
   "cell_type": "code",
   "execution_count": 5,
   "metadata": {},
   "outputs": [
    {
     "name": "stdout",
     "output_type": "stream",
     "text": [
      "[1] 0.5072972\n"
     ]
    }
   ],
   "source": [
    "p_a_1=1-p_a\n",
    "print(p_a_1)"
   ]
  },
  {
   "cell_type": "markdown",
   "metadata": {},
   "source": [
    "From the result we can say the probabiliy is greater than 0.5, however it will dependen on number of students (n)."
   ]
  },
  {
   "cell_type": "markdown",
   "metadata": {},
   "source": [
    "<h3>Problem 3</h3>\n",
    "It is known from experience that in a certain industry 60% of all labor-management disputes are over wages, 15 percent are over working conditions, and 25 percent are over fringe issues. Also, 45 percent of the disputes over wages are resolved without strikes, 70 percent of the disputes over working conditions are resolved without strikes, and 40 percent of the disputes over fringe issues are resolved without strikes. What is the probability that a labour-management dispute in this industry will be resolved without a strike?"
   ]
  },
  {
   "cell_type": "markdown",
   "metadata": {},
   "source": [
    "Let A = event of a labour-management dispute in the industry resolved without a strike\n",
    "$P(A)=?$<br/>\n",
    "\n",
    "Let $B_1=$ Dispute of all industry are over wages<br/>\n",
    "Let $B_2=$ Dispute of all industry are over working conditions<br/>\n",
    "Let $B_3=$  Dispute of all industry are over fringe isues<br/>\n",
    "<br/>\n",
    "$P(A|B_i)$ is the probability of an industry is resolved without a strike given a dispute\n",
    "\n",
    "Since the three events $B_1$, $B_2$ and $B_3$ are mutually exclusive and exhaustive $(B_1\\ U\\ B_2\\ U\\ B_3)=S$<br/>\n",
    "\n",
    "We can use the total law of probability:<br/>\n",
    "$P(A)=\\displaystyle\\sum_{i}^{3}P(B_i)P(A|B_i)$"
   ]
  },
  {
   "cell_type": "code",
   "execution_count": 6,
   "metadata": {},
   "outputs": [
    {
     "name": "stdout",
     "output_type": "stream",
     "text": [
      "      [,1]\n",
      "[1,] 0.475\n"
     ]
    }
   ],
   "source": [
    "p_b=c(0.6,0.15,0.25)\n",
    "p_a_bi=c(0.45,0.70,0.4)\n",
    "p_a=p_b %*% p_a_bi\n",
    "print(p_a)"
   ]
  },
  {
   "cell_type": "markdown",
   "metadata": {},
   "source": [
    "<h3>Problem 4</h3>"
   ]
  },
  {
   "cell_type": "markdown",
   "metadata": {},
   "source": [
    "In a certain community, 8 percent of all adults have Type 2 diabetes. If a health service in this community correctly diagnoses 95 percent of adults with diabetes as having the disease and incorrectly diagnoses 2 percent adults without diabetes as having the disease, find the probabilities that:"
   ]
  },
  {
   "cell_type": "markdown",
   "metadata": {},
   "source": [
    "<b>a)</b> The community health service will diagnose an adult as having diabetes\n",
    "<b>b)</b>an adult diagnosed by the health service as having diabetes actually has the disease."
   ]
  },
  {
   "cell_type": "markdown",
   "metadata": {},
   "source": [
    "Let A be the event of having the disease type 2 diabetes<br/>\n",
    "Let B be the event of being diagnosed with diabetesbr>\n",
    "\n",
    "P(A) = 0.08<br/>\n",
    "P(A') = 0.92 (Not having the disease)<br/>\n",
    "P(B|A) = 0.95 (diagnosed with diabetes given that the adults have diabetes)<br/>\n",
    "P(B|A') = 0.02 (diagnosed with diabetes given that the adults don't have diabetes)<br/>\n",
    "\n",
    "<br/>\n",
    "\n",
    "From Bayes theorem:\n",
    "$P(B|A)=\\frac{P(A|B)P(B)}{P(A)}$ <br/>\n",
    "then<br/>\n",
    "$P(A|B)P(B)=0.95\\times0.08$ [1]<br/>\n",
    "$P(A'|B)P(B)=0.92\\times0.02$ [2] <br/>\n",
    "\n",
    "now $P(A'|B)=1-P(A|B)$ [3]<br/>\n",
    "if we replace [3] en [2] we can resolve the 2 ([1] and [2]) equations systems for:\n",
    "P(A|B) and P(B)<br/>\n",
    "$0.0184=(1-P(A|B)P(B)$ [2]<br/>\n",
    "\n",
    "Dividing [2] by [1]<br/><br/>\n",
    "$\\frac{0.92\\times0.02}{0.95\\times0.08}=\\frac{(1-P(A|B))P(B)}{P(A|B)P(B)}$<br/>\n",
    "\n",
    "solving for $P(A|B)$ and using [1] to get $P(B)$\n",
    "\n",
    "\n"
   ]
  },
  {
   "cell_type": "code",
   "execution_count": 7,
   "metadata": {},
   "outputs": [],
   "source": [
    "p_a_b=1/(1+(0.92*0.02)/(0.95*0.08))\n",
    "p_b=(0.95*0.08)/p_a_b"
   ]
  },
  {
   "cell_type": "markdown",
   "metadata": {},
   "source": [
    "<b>a)</b> The community health service will diagnose an adult as having diabetes"
   ]
  },
  {
   "cell_type": "code",
   "execution_count": 8,
   "metadata": {},
   "outputs": [
    {
     "name": "stdout",
     "output_type": "stream",
     "text": [
      "[1] 0.0944\n"
     ]
    }
   ],
   "source": [
    "print(p_b)"
   ]
  },
  {
   "cell_type": "markdown",
   "metadata": {},
   "source": [
    "<b>b)</b>an adult diagnosed by the health service as having diabetes actually has the disease."
   ]
  },
  {
   "cell_type": "code",
   "execution_count": 9,
   "metadata": {},
   "outputs": [
    {
     "name": "stdout",
     "output_type": "stream",
     "text": [
      "[1] 0.8050847\n"
     ]
    }
   ],
   "source": [
    "print(p_a_b)"
   ]
  },
  {
   "cell_type": "markdown",
   "metadata": {},
   "source": [
    "<h3>Problem 5</h3>"
   ]
  },
  {
   "cell_type": "markdown",
   "metadata": {},
   "source": [
    "A bag contains 5 coins, one of which has a head on both sides while the other 4 coins are normal. A coin is chosen at random from the bag and tossed 2 times. The number of heads obtained is a random variable, say X\n",
    "\n",
    "<b>(a)</b> What are the possible values of X? Also tabulate the pmf of X.\n",
    "(Hint: The coin chosen is either normal or with head on both sides. Find the conditional probability of X in each of these two cases. Then use the law of total probability and multiplication rule to find the pmf of X.)<br/>"
   ]
  },
  {
   "cell_type": "markdown",
   "metadata": {},
   "source": [
    "Given a sample space $S=\\{(H,H),(H,T),(T,H),(T,T),(H,H)\\}$<br/>\n",
    "and Let x be the number of heads obtained\n",
    "\n",
    "<table>\n",
    "  <tr>\n",
    "    <th>s</th>\n",
    "    <th>X(s)</th>\n",
    "  </tr>\n",
    "  <tr>\n",
    "    <td>HH</td>\n",
    "    <td>2</td> \n",
    "  </tr>\n",
    "  <tr>\n",
    "    <td>HH</td>\n",
    "    <td>2</td> \n",
    "  </tr>\n",
    "  <tr>\n",
    "    <td>HT</td>\n",
    "    <td>TH</td> \n",
    "  </tr>\n",
    "  <tr>\n",
    "    <td>TT</td>\n",
    "    <td>0</td> \n",
    "  </tr>\n",
    "</table>\n",
    "\n",
    "$P(X=0)=\\frac{\\binom{4}{1}\\times\\frac{1}{2}\\times\\frac{1}{2}}{5}=\\frac{1}{5}$<br/>\n",
    "$P(X=1)=\\frac{\\binom{4}{1}\\times\\frac{1}{2}\\times\\frac{1}{2}+1}{5}=\\frac{2}{5}$<br/>\n",
    "$P(X=2)=\\frac{\\binom{4}{1}\\times\\frac{1}{2}\\times\\frac{1}{2}+1}{5}=\\frac{2}{5}$<br/>\n",
    "\n",
    "The probability mass function can be written as a table:\n",
    "<table>\n",
    "  <tr>\n",
    "    <th><b>x</b></th>\n",
    "    <th>0</th> \n",
    "    <th>1</th>\n",
    "    <th>2</th>\n",
    "  </tr>\n",
    "  <tr>\n",
    "    <td><b>P(X=x)</b></td>\n",
    "    <td>1/5</td> \n",
    "    <td>2/5</td>\n",
    "    <td>2/5</td>\n",
    "  </tr>\n",
    "</table>"
   ]
  },
  {
   "cell_type": "markdown",
   "metadata": {},
   "source": [
    "<b>(b)</b> Calculate E(X) and Var(X)."
   ]
  },
  {
   "cell_type": "markdown",
   "metadata": {},
   "source": [
    "$E(x)=\\displaystyle\\sum_{i\\ \\epsilon\\ Range(0,2)}xP(X=x)$"
   ]
  },
  {
   "cell_type": "code",
   "execution_count": 10,
   "metadata": {},
   "outputs": [
    {
     "name": "stdout",
     "output_type": "stream",
     "text": [
      "     [,1]\n",
      "[1,]  1.2\n"
     ]
    }
   ],
   "source": [
    "pmf_x=c(1/5,2/5,2/5)\n",
    "x=c(0,1,2)\n",
    "e_x=pmf_x %*% x\n",
    "print(e_x)"
   ]
  },
  {
   "cell_type": "markdown",
   "metadata": {},
   "source": [
    "$Var(x)=\\displaystyle\\sum_{i\\ \\epsilon\\ Range(0,2)}(x-\\mu)^2P(X=x)$<br/>\n",
    "$\\mu=E(x)$"
   ]
  },
  {
   "cell_type": "code",
   "execution_count": 11,
   "metadata": {},
   "outputs": [
    {
     "name": "stdout",
     "output_type": "stream",
     "text": [
      "     [,1]\n",
      "[1,] 0.56\n"
     ]
    }
   ],
   "source": [
    "var_x=((x-as.vector(e_x))^2) %*% pmf_x\n",
    "print(var_x)\n"
   ]
  },
  {
   "cell_type": "markdown",
   "metadata": {},
   "source": [
    "<h3>Problem 6</h3>"
   ]
  },
  {
   "cell_type": "markdown",
   "metadata": {},
   "source": [
    "Among the 16 applicants for a job, 10 have university degrees. A sample of 3 applicants are to be randomly chosen for interviews. Let X be the number of applicants in the sample who have university degrees."
   ]
  },
  {
   "cell_type": "markdown",
   "metadata": {},
   "source": [
    "<b>a)</b>Give the name to the distribution of X if it has a name. Also specify the values of all parameters involved in this distribution."
   ]
  },
  {
   "cell_type": "markdown",
   "metadata": {},
   "source": [
    "\n",
    "Say we want to know the probability of getting 1 student with university degree, without replacement. Using the counting principle:\n",
    "Let $A =$ 1 Student has a university degree<br/>\n",
    "$P(A)=\\frac{\\binom{10}{1} \\times \\binom{6}{2}}{\\binom{16}{3}}$ [1]\n",
    "<br/>\n",
    "\n",
    "We need to choose 3 students out of 10 that have university degrees times choose 2 other students that doesn't have university degrees, over the total ways which would be to choose 3 students out of 16.\n",
    "\n",
    "If we use a formal definition, we can find that the random variable of interest is the total number of applicants X who have univeristy degrees given a total number of $t=16$ applicants.<br/>\n",
    "We have a sample size $n=3$ for the sampled applicants and a total number $b=10$ who have univeristy degrees.\n",
    "For $x=0,1,2,3$ we have:\n",
    "$P(X=x)=\\frac{\\binom{b}{x} \\times \\binom{t-b}{n-x}}{\\binom{t}{n}}$ [2]\n",
    "\n",
    "Here $x<=n$, $x<=b$ and $n-x <= t-b$\n",
    "\n",
    "From [1] and [2] we can conclude this is a <b>hypergeometric distribution.</b>\n",
    "\n",
    "\n"
   ]
  },
  {
   "cell_type": "markdown",
   "metadata": {},
   "source": [
    "<b>b)</b>Find the probability that exactly 1 applicant in the sample has a university degree"
   ]
  },
  {
   "cell_type": "code",
   "execution_count": 12,
   "metadata": {},
   "outputs": [
    {
     "name": "stdout",
     "output_type": "stream",
     "text": [
      "[1] 0.2678571\n"
     ]
    }
   ],
   "source": [
    "p_x_1=(choose(10,1)*choose(6,2))/choose(16,3)\n",
    "print(p_x_1)"
   ]
  },
  {
   "cell_type": "markdown",
   "metadata": {},
   "source": [
    "<b>c)</b>Find the probability that at most 1 applicant in the sample has a university degree."
   ]
  },
  {
   "cell_type": "markdown",
   "metadata": {},
   "source": [
    "Let B be the event of having at most 1 applicant in the sample has a university degree.\n",
    "$P(B)=P(0)+P(1)$<br/>\n",
    "since P(1) was already calculated, let's recalculate it again with R function <i>dhyper(x, m, n, k, log = FALSE)</i> where:<br/><br/>\n",
    "<i>\n",
    "x = random variable<br/>\n",
    "m = number of students with university degrees<br/>\n",
    "n = number of students without university degrees<br/>\n",
    "k = sample size<br/>\n",
    "</i>"
   ]
  },
  {
   "cell_type": "code",
   "execution_count": 13,
   "metadata": {},
   "outputs": [
    {
     "name": "stdout",
     "output_type": "stream",
     "text": [
      "[1] 0.3035714\n"
     ]
    }
   ],
   "source": [
    "p_x_1=dhyper(1,10,6,3)\n",
    "p_x_0=dhyper(0,10,6,3)\n",
    "p_b=p_x_1+p_x_0\n",
    "print(p_b)"
   ]
  },
  {
   "cell_type": "markdown",
   "metadata": {},
   "source": [
    "<h3>Problem 7</h3>"
   ]
  },
  {
   "cell_type": "markdown",
   "metadata": {},
   "source": [
    "A moment-generating function of X is given by $M(t) = (0.25 + 0.75e^t)^4$.\n"
   ]
  },
  {
   "cell_type": "markdown",
   "metadata": {},
   "source": [
    "<b>a)</b> Find the values of $\\mu$ and $\\sigma^2$ for $X$."
   ]
  },
  {
   "cell_type": "markdown",
   "metadata": {},
   "source": [
    "$\\mu=E(X)=M'(0)$"
   ]
  },
  {
   "cell_type": "code",
   "execution_count": 14,
   "metadata": {},
   "outputs": [
    {
     "name": "stdout",
     "output_type": "stream",
     "text": [
      "4 * (0.75 * exp(t) * (0.25 + 0.75 * exp(t))^3)\n",
      "[1] 3\n"
     ]
    }
   ],
   "source": [
    "mu=D(expression((0.25+0.75*exp(t))^4),c(\"t\"))\n",
    "print(mu)\n",
    "t<-0\n",
    "print(eval(mu))"
   ]
  },
  {
   "cell_type": "markdown",
   "metadata": {},
   "source": [
    "$\\sigma^2 = Var(x) = M''(0) - [M'(0)]^2$"
   ]
  },
  {
   "cell_type": "code",
   "execution_count": 15,
   "metadata": {},
   "outputs": [
    {
     "name": "stdout",
     "output_type": "stream",
     "text": [
      "4 * (0.75 * exp(t) * (0.25 + 0.75 * exp(t))^3 + 0.75 * exp(t) * \n",
      "    (3 * (0.75 * exp(t) * (0.25 + 0.75 * exp(t))^2)))\n",
      "[1] 0.75\n"
     ]
    }
   ],
   "source": [
    "dmu=D(mu,c(\"t\"))\n",
    "t<-0\n",
    "var=eval(dmu)-(eval(mu))^2\n",
    "print(dmu)\n",
    "print(var)"
   ]
  },
  {
   "cell_type": "markdown",
   "metadata": {},
   "source": [
    "<b>b)</b> Calculate P(1 ≤ X ≤ 2)."
   ]
  },
  {
   "cell_type": "markdown",
   "metadata": {},
   "source": [
    "Since $M(t) = E(e^{tx}) = (0.25 + 0.75e^t)^4$ we can use the binomial expansion:<br/>\n",
    "$M(t) = E(e^{tx}) = (a+b)^n = \\displaystyle\\sum_{x=0}^{n}e^{tx}\\binom{n}{x}b^xa^{n-x}$<br/>\n",
    "where $a=0.25$, $b=0.75$ and $n=4$<br/><br/>\n",
    "$M(t) = E(e^{tx}) = \\binom{4}{0}\\frac{1}{4^4}+\\binom{4}{1}\\frac{3}{4}\\frac{1}{4^3}e^t +\\binom{4}{2}\\frac{3^2}{4^2}\\frac{1}{4^2}e^2t+\\binom{4}{3}\\frac{3^3}{4^3}\\frac{1}{4}e^{3t}+\\binom{4}{4}\\frac{3^4}{4^4}e^4t$ <br/>\n",
    "Simplifying:<br/>\n",
    "$M(t) = E(e^{tx}) = \\frac{1}{4^4}+\\frac{3}{4^3}e^t+\\frac{54}{4^4}e^{2t}+\\frac{3^3}{4^3}e^{3t}+\\frac{3^4}{4^4}e^{4t}$<br/>\n",
    "<br/>\n",
    "Since $M(t) = E(e^{tx}) =  \\displaystyle\\sum_{x=0}^{4}e^{tx}p(X=x)=p(X=0)e^0+p(x=1)e^t+p(x=2)e^{2t}+p(x=3)e^{3t}+p(x=4)e^{4t}$<br/>\n",
    "\n",
    "We can conclude that for $P(1\\leq X \\leq 2)$: <br/>\n",
    "$P(X=1)=\\frac{3}{64}$<br/>\n",
    "$P(X=2)=\\frac{54}{256}$"
   ]
  },
  {
   "cell_type": "code",
   "execution_count": 16,
   "metadata": {},
   "outputs": [
    {
     "name": "stdout",
     "output_type": "stream",
     "text": [
      "[1] 0.2578125\n"
     ]
    }
   ],
   "source": [
    "p_x1=3/64\n",
    "p_x2=54/256\n",
    "print(p_x1+p_x2)"
   ]
  }
 ],
 "metadata": {
  "kernelspec": {
   "display_name": "R",
   "language": "R",
   "name": "ir"
  },
  "language_info": {
   "codemirror_mode": "r",
   "file_extension": ".r",
   "mimetype": "text/x-r-source",
   "name": "R",
   "pygments_lexer": "r",
   "version": "3.4.3"
  }
 },
 "nbformat": 4,
 "nbformat_minor": 2
}
